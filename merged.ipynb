{
  "cells": [
    {
      "cell_type": "code",
      "execution_count": 1,
      "metadata": {
        "colab": {
          "base_uri": "https://localhost:8080/"
        },
        "id": "rkBmY3vQvRSw",
        "outputId": "14708c30-8453-44d3-afa8-65db8104d09b"
      },
      "outputs": [
        {
          "name": "stdout",
          "output_type": "stream",
          "text": [
            "Using pip 24.0 from /usr/local/lib/python3.11/site-packages/pip (python 3.11)\n",
            "Defaulting to user installation because normal site-packages is not writeable\n",
            "Collecting llama-cpp-python==0.1.78\n",
            "  Downloading llama_cpp_python-0.1.78.tar.gz (1.7 MB)\n",
            "\u001b[2K     \u001b[90m━━━━━━━━━━━━━━━━━━━━━━━━━━━━━━━━━━━━━━━━\u001b[0m \u001b[32m1.7/1.7 MB\u001b[0m \u001b[31m141.1 MB/s\u001b[0m eta \u001b[36m0:00:00\u001b[0m\n",
            "\u001b[?25h  Installing build dependencies ... \u001b[?25l  Running command pip subprocess to install build dependencies\n",
            "  Collecting setuptools>=42\n",
            "    Using cached setuptools-69.5.1-py3-none-any.whl.metadata (6.2 kB)\n",
            "  Collecting scikit-build>=0.13\n",
            "    Using cached scikit_build-0.17.6-py3-none-any.whl.metadata (14 kB)\n",
            "  Collecting cmake>=3.18\n",
            "    Using cached cmake-3.29.2-py3-none-manylinux_2_17_x86_64.manylinux2014_x86_64.whl.metadata (6.1 kB)\n",
            "  Collecting ninja\n",
            "    Using cached ninja-1.11.1.1-py2.py3-none-manylinux1_x86_64.manylinux_2_5_x86_64.whl.metadata (5.3 kB)\n",
            "  Collecting distro (from scikit-build>=0.13)\n",
            "    Using cached distro-1.9.0-py3-none-any.whl.metadata (6.8 kB)\n",
            "  Collecting packaging (from scikit-build>=0.13)\n",
            "    Using cached packaging-24.0-py3-none-any.whl.metadata (3.2 kB)\n",
            "  Collecting wheel>=0.32.0 (from scikit-build>=0.13)\n",
            "    Using cached wheel-0.43.0-py3-none-any.whl.metadata (2.2 kB)\n",
            "  Using cached setuptools-69.5.1-py3-none-any.whl (894 kB)\n",
            "  Using cached scikit_build-0.17.6-py3-none-any.whl (84 kB)\n",
            "  Using cached cmake-3.29.2-py3-none-manylinux_2_17_x86_64.manylinux2014_x86_64.whl (26.7 MB)\n",
            "  Using cached ninja-1.11.1.1-py2.py3-none-manylinux1_x86_64.manylinux_2_5_x86_64.whl (307 kB)\n",
            "  Using cached wheel-0.43.0-py3-none-any.whl (65 kB)\n",
            "  Using cached distro-1.9.0-py3-none-any.whl (20 kB)\n",
            "  Using cached packaging-24.0-py3-none-any.whl (53 kB)\n",
            "  Installing collected packages: ninja, wheel, setuptools, packaging, distro, cmake, scikit-build\n",
            "  Successfully installed cmake-3.29.2 distro-1.9.0 ninja-1.11.1.1 packaging-24.0 scikit-build-0.17.6 setuptools-69.5.1 wheel-0.43.0\n",
            "\u001b[?25hdone\n",
            "  Getting requirements to build wheel ... \u001b[?25l  Running command Getting requirements to build wheel\n",
            "  running egg_info\n",
            "  writing llama_cpp_python.egg-info/PKG-INFO\n",
            "  writing dependency_links to llama_cpp_python.egg-info/dependency_links.txt\n",
            "  writing requirements to llama_cpp_python.egg-info/requires.txt\n",
            "  writing top-level names to llama_cpp_python.egg-info/top_level.txt\n",
            "  reading manifest file 'llama_cpp_python.egg-info/SOURCES.txt'\n",
            "  adding license file 'LICENSE.md'\n",
            "  writing manifest file 'llama_cpp_python.egg-info/SOURCES.txt'\n",
            "\u001b[?25hdone\n",
            "  Preparing metadata (pyproject.toml) ... \u001b[?25l  Running command Preparing metadata (pyproject.toml)\n",
            "  running dist_info\n",
            "  creating /tmp/pip-modern-metadata-nfag2bdy/llama_cpp_python.egg-info\n",
            "  writing /tmp/pip-modern-metadata-nfag2bdy/llama_cpp_python.egg-info/PKG-INFO\n",
            "  writing dependency_links to /tmp/pip-modern-metadata-nfag2bdy/llama_cpp_python.egg-info/dependency_links.txt\n",
            "  writing requirements to /tmp/pip-modern-metadata-nfag2bdy/llama_cpp_python.egg-info/requires.txt\n",
            "  writing top-level names to /tmp/pip-modern-metadata-nfag2bdy/llama_cpp_python.egg-info/top_level.txt\n",
            "  writing manifest file '/tmp/pip-modern-metadata-nfag2bdy/llama_cpp_python.egg-info/SOURCES.txt'\n",
            "  reading manifest file '/tmp/pip-modern-metadata-nfag2bdy/llama_cpp_python.egg-info/SOURCES.txt'\n",
            "  adding license file 'LICENSE.md'\n",
            "  writing manifest file '/tmp/pip-modern-metadata-nfag2bdy/llama_cpp_python.egg-info/SOURCES.txt'\n",
            "  creating '/tmp/pip-modern-metadata-nfag2bdy/llama_cpp_python-0.1.78.dist-info'\n",
            "\u001b[?25hdone\n",
            "Collecting typing-extensions>=4.5.0 (from llama-cpp-python==0.1.78)\n",
            "  Obtaining dependency information for typing-extensions>=4.5.0 from https://files.pythonhosted.org/packages/01/f3/936e209267d6ef7510322191003885de524fc48d1b43269810cd589ceaf5/typing_extensions-4.11.0-py3-none-any.whl.metadata\n",
            "  Downloading typing_extensions-4.11.0-py3-none-any.whl.metadata (3.0 kB)\n",
            "  Link requires a different Python (3.11.8 not in: '>=3.7,<3.11'): https://files.pythonhosted.org/packages/3a/be/650f9c091ef71cb01d735775d554e068752d3ff63d7943b26316dc401749/numpy-1.21.2.zip (from https://pypi.org/simple/numpy/) (requires-python:>=3.7,<3.11)\n",
            "  Link requires a different Python (3.11.8 not in: '>=3.7,<3.11'): https://files.pythonhosted.org/packages/5f/d6/ad58ded26556eaeaa8c971e08b6466f17c4ac4d786cd3d800e26ce59cc01/numpy-1.21.3.zip (from https://pypi.org/simple/numpy/) (requires-python:>=3.7,<3.11)\n",
            "  Link requires a different Python (3.11.8 not in: '>=3.7,<3.11'): https://files.pythonhosted.org/packages/fb/48/b0708ebd7718a8933f0d3937513ef8ef2f4f04529f1f66ca86d873043921/numpy-1.21.4.zip (from https://pypi.org/simple/numpy/) (requires-python:>=3.7,<3.11)\n",
            "  Link requires a different Python (3.11.8 not in: '>=3.7,<3.11'): https://files.pythonhosted.org/packages/c2/a8/a924a09492bdfee8c2ec3094d0a13f2799800b4fdc9c890738aeeb12c72e/numpy-1.21.5.zip (from https://pypi.org/simple/numpy/) (requires-python:>=3.7,<3.11)\n",
            "  Link requires a different Python (3.11.8 not in: '>=3.7,<3.11'): https://files.pythonhosted.org/packages/45/b7/de7b8e67f2232c26af57c205aaad29fe17754f793404f59c8a730c7a191a/numpy-1.21.6.zip (from https://pypi.org/simple/numpy/) (requires-python:>=3.7,<3.11)\n",
            "Collecting numpy>=1.20.0 (from llama-cpp-python==0.1.78)\n",
            "  Obtaining dependency information for numpy>=1.20.0 from https://files.pythonhosted.org/packages/3a/d0/edc009c27b406c4f9cbc79274d6e46d634d139075492ad055e3d68445925/numpy-1.26.4-cp311-cp311-manylinux_2_17_x86_64.manylinux2014_x86_64.whl.metadata\n",
            "  Downloading numpy-1.26.4-cp311-cp311-manylinux_2_17_x86_64.manylinux2014_x86_64.whl.metadata (61 kB)\n",
            "\u001b[2K     \u001b[90m━━━━━━━━━━━━━━━━━━━━━━━━━━━━━━━━━━━━━━━\u001b[0m \u001b[32m61.0/61.0 kB\u001b[0m \u001b[31m239.6 MB/s\u001b[0m eta \u001b[36m0:00:00\u001b[0m\n",
            "\u001b[?25hCollecting diskcache>=5.6.1 (from llama-cpp-python==0.1.78)\n",
            "  Obtaining dependency information for diskcache>=5.6.1 from https://files.pythonhosted.org/packages/3f/27/4570e78fc0bf5ea0ca45eb1de3818a23787af9b390c0b0a0033a1b8236f9/diskcache-5.6.3-py3-none-any.whl.metadata\n",
            "  Downloading diskcache-5.6.3-py3-none-any.whl.metadata (20 kB)\n",
            "Downloading diskcache-5.6.3-py3-none-any.whl (45 kB)\n",
            "\u001b[2K   \u001b[90m━━━━━━━━━━━━━━━━━━━━━━━━━━━━━━━━━━━━━━━━\u001b[0m \u001b[32m45.5/45.5 kB\u001b[0m \u001b[31m204.7 MB/s\u001b[0m eta \u001b[36m0:00:00\u001b[0m\n",
            "\u001b[?25hDownloading numpy-1.26.4-cp311-cp311-manylinux_2_17_x86_64.manylinux2014_x86_64.whl (18.3 MB)\n",
            "\u001b[2K   \u001b[90m━━━━━━━━━━━━━━━━━━━━━━━━━━━━━━━━━━━━━━━━\u001b[0m \u001b[32m18.3/18.3 MB\u001b[0m \u001b[31m203.0 MB/s\u001b[0m eta \u001b[36m0:00:00\u001b[0ma \u001b[36m0:00:01\u001b[0m\n",
            "\u001b[?25hDownloading typing_extensions-4.11.0-py3-none-any.whl (34 kB)\n",
            "Building wheels for collected packages: llama-cpp-python\n",
            "  Building wheel for llama-cpp-python (pyproject.toml) ... \u001b[?25l  Running command Building wheel for llama-cpp-python (pyproject.toml)\n",
            "\n",
            "\n",
            "  --------------------------------------------------------------------------------\n",
            "  -- Trying 'Ninja' generator\n",
            "  --------------------------------\n",
            "  ---------------------------\n",
            "  ----------------------\n",
            "  -----------------\n",
            "  ------------\n",
            "  -------\n",
            "  --\n",
            "  \u001b[0mCMake Deprecation Warning at CMakeLists.txt:1 (cmake_minimum_required):\n",
            "    Compatibility with CMake < 3.5 will be removed from a future version of\n",
            "    CMake.\n",
            "\n",
            "    Update the VERSION argument <min> value or use a ...<max> suffix to tell\n",
            "    CMake that the project does not need compatibility with older versions.\n",
            "\n",
            "  \u001b[0mNot searching for unused variables given on the command line.\n",
            "\n",
            "  -- The C compiler identification is GNU 10.2.1\n",
            "  -- Detecting C compiler ABI info\n",
            "  -- Detecting C compiler ABI info - done\n",
            "  -- Check for working C compiler: /usr/bin/cc - skipped\n",
            "  -- Detecting C compile features\n",
            "  -- Detecting C compile features - done\n",
            "  -- The CXX compiler identification is GNU 10.2.1\n",
            "  -- Detecting CXX compiler ABI info\n",
            "  -- Detecting CXX compiler ABI info - done\n",
            "  -- Check for working CXX compiler: /usr/bin/c++ - skipped\n",
            "  -- Detecting CXX compile features\n",
            "  -- Detecting CXX compile features - done\n",
            "  -- Configuring done (1.8s)\n",
            "  -- Generating done (0.0s)\n",
            "  -- Build files have been written to: /tmp/pip-install-wcqr47d1/llama-cpp-python_863778d5da4a496191bf75a4ad69e0d6/_cmake_test_compile/build\n",
            "  --\n",
            "  -------\n",
            "  ------------\n",
            "  -----------------\n",
            "  ----------------------\n",
            "  ---------------------------\n",
            "  --------------------------------\n",
            "  -- Trying 'Ninja' generator - success\n",
            "  --------------------------------------------------------------------------------\n",
            "\n",
            "  Configuring Project\n",
            "    Working directory:\n",
            "      /tmp/pip-install-wcqr47d1/llama-cpp-python_863778d5da4a496191bf75a4ad69e0d6/_skbuild/linux-x86_64-3.11/cmake-build\n",
            "    Command:\n",
            "      /tmp/pip-build-env-agqzcsf3/overlay/lib/python3.11/site-packages/cmake/data/bin/cmake /tmp/pip-install-wcqr47d1/llama-cpp-python_863778d5da4a496191bf75a4ad69e0d6 -G Ninja -DCMAKE_MAKE_PROGRAM:FILEPATH=/tmp/pip-build-env-agqzcsf3/overlay/lib/python3.11/site-packages/ninja/data/bin/ninja --no-warn-unused-cli -DCMAKE_INSTALL_PREFIX:PATH=/tmp/pip-install-wcqr47d1/llama-cpp-python_863778d5da4a496191bf75a4ad69e0d6/_skbuild/linux-x86_64-3.11/cmake-install -DPYTHON_VERSION_STRING:STRING=3.11.8 -DSKBUILD:INTERNAL=TRUE -DCMAKE_MODULE_PATH:PATH=/tmp/pip-build-env-agqzcsf3/overlay/lib/python3.11/site-packages/skbuild/resources/cmake -DPYTHON_EXECUTABLE:PATH=/usr/local/bin/python -DPYTHON_INCLUDE_DIR:PATH=/usr/local/include/python3.11 -DPYTHON_LIBRARY:PATH=/usr/local/lib/libpython3.11.so -DPython_EXECUTABLE:PATH=/usr/local/bin/python -DPython_ROOT_DIR:PATH=/usr/local -DPython_FIND_REGISTRY:STRING=NEVER -DPython_INCLUDE_DIR:PATH=/usr/local/include/python3.11 -DPython3_EXECUTABLE:PATH=/usr/local/bin/python -DPython3_ROOT_DIR:PATH=/usr/local -DPython3_FIND_REGISTRY:STRING=NEVER -DPython3_INCLUDE_DIR:PATH=/usr/local/include/python3.11 -DCMAKE_MAKE_PROGRAM:FILEPATH=/tmp/pip-build-env-agqzcsf3/overlay/lib/python3.11/site-packages/ninja/data/bin/ninja -DLLAMA_CUBLAS=on -DCMAKE_BUILD_TYPE:STRING=Release -DLLAMA_CUBLAS=on\n",
            "\n",
            "  Not searching for unused variables given on the command line.\n",
            "  -- The C compiler identification is GNU 10.2.1\n",
            "  -- The CXX compiler identification is GNU 10.2.1\n",
            "  -- Detecting C compiler ABI info\n",
            "  -- Detecting C compiler ABI info - done\n",
            "  -- Check for working C compiler: /usr/bin/cc - skipped\n",
            "  -- Detecting C compile features\n",
            "  -- Detecting C compile features - done\n",
            "  -- Detecting CXX compiler ABI info\n",
            "  -- Detecting CXX compiler ABI info - done\n",
            "  -- Check for working CXX compiler: /usr/bin/c++ - skipped\n",
            "  -- Detecting CXX compile features\n",
            "  -- Detecting CXX compile features - done\n",
            "  -- Found Git: /usr/local/bin/git (found version \"2.44.0\")\n",
            "  fatal: not a git repository (or any parent up to mount point /)\n",
            "  Stopping at filesystem boundary (GIT_DISCOVERY_ACROSS_FILESYSTEM not set).\n",
            "  fatal: not a git repository (or any parent up to mount point /)\n",
            "  Stopping at filesystem boundary (GIT_DISCOVERY_ACROSS_FILESYSTEM not set).\n",
            "  \u001b[33mCMake Warning at vendor/llama.cpp/CMakeLists.txt:117 (message):\n",
            "    Git repository not found; to enable automatic generation of build info,\n",
            "    make sure Git is installed and the project is a Git repository.\n",
            "\n",
            "  \u001b[0m\n",
            "  -- Performing Test CMAKE_HAVE_LIBC_PTHREAD\n",
            "  -- Performing Test CMAKE_HAVE_LIBC_PTHREAD - Failed\n",
            "  -- Check if compiler accepts -pthread\n",
            "  -- Check if compiler accepts -pthread - yes\n",
            "  -- Found Threads: TRUE\n",
            "  -- Could not find nvcc, please set CUDAToolkit_ROOT.\n",
            "  \u001b[33mCMake Warning at vendor/llama.cpp/CMakeLists.txt:291 (message):\n",
            "    cuBLAS not found\n",
            "\n",
            "  \u001b[0m\n",
            "  -- CMAKE_SYSTEM_PROCESSOR: x86_64\n",
            "  -- x86 detected\n",
            "  -- Configuring done (0.6s)\n",
            "  -- Generating done (0.0s)\n",
            "  -- Build files have been written to: /tmp/pip-install-wcqr47d1/llama-cpp-python_863778d5da4a496191bf75a4ad69e0d6/_skbuild/linux-x86_64-3.11/cmake-build\n",
            "  [1/8] Building C object vendor/llama.cpp/CMakeFiles/ggml.dir/ggml-alloc.c.o\n",
            "  [2/8] Building C object vendor/llama.cpp/CMakeFiles/ggml.dir/k_quants.c.o\n",
            "  [3/8] Building C object vendor/llama.cpp/CMakeFiles/ggml.dir/ggml.c.o\n",
            "  [4/8] Linking C static library vendor/llama.cpp/libggml_static.a\n",
            "  [5/8] Linking C shared library vendor/llama.cpp/libggml_shared.so\n",
            "  [6/8] Building CXX object vendor/llama.cpp/CMakeFiles/llama.dir/llama.cpp.o\n",
            "  [7/8] Linking CXX shared library vendor/llama.cpp/libllama.so\n",
            "  [7/8] Install the project...\n",
            "  -- Install configuration: \"Release\"\n",
            "  -- Installing: /tmp/pip-install-wcqr47d1/llama-cpp-python_863778d5da4a496191bf75a4ad69e0d6/_skbuild/linux-x86_64-3.11/cmake-install/lib/libggml_shared.so\n",
            "  -- Installing: /tmp/pip-install-wcqr47d1/llama-cpp-python_863778d5da4a496191bf75a4ad69e0d6/_skbuild/linux-x86_64-3.11/cmake-install/lib/libllama.so\n",
            "  -- Installing: /tmp/pip-install-wcqr47d1/llama-cpp-python_863778d5da4a496191bf75a4ad69e0d6/_skbuild/linux-x86_64-3.11/cmake-install/bin/convert.py\n",
            "  -- Installing: /tmp/pip-install-wcqr47d1/llama-cpp-python_863778d5da4a496191bf75a4ad69e0d6/_skbuild/linux-x86_64-3.11/cmake-install/bin/convert-lora-to-ggml.py\n",
            "  -- Installing: /tmp/pip-install-wcqr47d1/llama-cpp-python_863778d5da4a496191bf75a4ad69e0d6/_skbuild/linux-x86_64-3.11/cmake-install/llama_cpp/libllama.so\n",
            "\n",
            "  copying llama_cpp/llama.py -> _skbuild/linux-x86_64-3.11/cmake-install/llama_cpp/llama.py\n",
            "  copying llama_cpp/__init__.py -> _skbuild/linux-x86_64-3.11/cmake-install/llama_cpp/__init__.py\n",
            "  copying llama_cpp/utils.py -> _skbuild/linux-x86_64-3.11/cmake-install/llama_cpp/utils.py\n",
            "  copying llama_cpp/llama_types.py -> _skbuild/linux-x86_64-3.11/cmake-install/llama_cpp/llama_types.py\n",
            "  copying llama_cpp/llama_grammar.py -> _skbuild/linux-x86_64-3.11/cmake-install/llama_cpp/llama_grammar.py\n",
            "  copying llama_cpp/llama_cpp.py -> _skbuild/linux-x86_64-3.11/cmake-install/llama_cpp/llama_cpp.py\n",
            "  creating directory _skbuild/linux-x86_64-3.11/cmake-install/llama_cpp/server\n",
            "  copying llama_cpp/server/app.py -> _skbuild/linux-x86_64-3.11/cmake-install/llama_cpp/server/app.py\n",
            "  copying llama_cpp/server/__init__.py -> _skbuild/linux-x86_64-3.11/cmake-install/llama_cpp/server/__init__.py\n",
            "  copying llama_cpp/server/__main__.py -> _skbuild/linux-x86_64-3.11/cmake-install/llama_cpp/server/__main__.py\n",
            "  copying /tmp/pip-install-wcqr47d1/llama-cpp-python_863778d5da4a496191bf75a4ad69e0d6/llama_cpp/py.typed -> _skbuild/linux-x86_64-3.11/cmake-install/llama_cpp/py.typed\n",
            "\n",
            "  running bdist_wheel\n",
            "  running build\n",
            "  running build_py\n",
            "  creating _skbuild/linux-x86_64-3.11/setuptools/lib.linux-x86_64-cpython-311\n",
            "  creating _skbuild/linux-x86_64-3.11/setuptools/lib.linux-x86_64-cpython-311/llama_cpp\n",
            "  copying _skbuild/linux-x86_64-3.11/cmake-install/llama_cpp/llama.py -> _skbuild/linux-x86_64-3.11/setuptools/lib.linux-x86_64-cpython-311/llama_cpp\n",
            "  copying _skbuild/linux-x86_64-3.11/cmake-install/llama_cpp/__init__.py -> _skbuild/linux-x86_64-3.11/setuptools/lib.linux-x86_64-cpython-311/llama_cpp\n",
            "  copying _skbuild/linux-x86_64-3.11/cmake-install/llama_cpp/utils.py -> _skbuild/linux-x86_64-3.11/setuptools/lib.linux-x86_64-cpython-311/llama_cpp\n",
            "  copying _skbuild/linux-x86_64-3.11/cmake-install/llama_cpp/llama_types.py -> _skbuild/linux-x86_64-3.11/setuptools/lib.linux-x86_64-cpython-311/llama_cpp\n",
            "  copying _skbuild/linux-x86_64-3.11/cmake-install/llama_cpp/llama_grammar.py -> _skbuild/linux-x86_64-3.11/setuptools/lib.linux-x86_64-cpython-311/llama_cpp\n",
            "  copying _skbuild/linux-x86_64-3.11/cmake-install/llama_cpp/llama_cpp.py -> _skbuild/linux-x86_64-3.11/setuptools/lib.linux-x86_64-cpython-311/llama_cpp\n",
            "  creating _skbuild/linux-x86_64-3.11/setuptools/lib.linux-x86_64-cpython-311/llama_cpp/server\n",
            "  copying _skbuild/linux-x86_64-3.11/cmake-install/llama_cpp/server/app.py -> _skbuild/linux-x86_64-3.11/setuptools/lib.linux-x86_64-cpython-311/llama_cpp/server\n",
            "  copying _skbuild/linux-x86_64-3.11/cmake-install/llama_cpp/server/__init__.py -> _skbuild/linux-x86_64-3.11/setuptools/lib.linux-x86_64-cpython-311/llama_cpp/server\n",
            "  copying _skbuild/linux-x86_64-3.11/cmake-install/llama_cpp/server/__main__.py -> _skbuild/linux-x86_64-3.11/setuptools/lib.linux-x86_64-cpython-311/llama_cpp/server\n",
            "  copying _skbuild/linux-x86_64-3.11/cmake-install/llama_cpp/py.typed -> _skbuild/linux-x86_64-3.11/setuptools/lib.linux-x86_64-cpython-311/llama_cpp\n",
            "  copying _skbuild/linux-x86_64-3.11/cmake-install/llama_cpp/libllama.so -> _skbuild/linux-x86_64-3.11/setuptools/lib.linux-x86_64-cpython-311/llama_cpp\n",
            "  copying _skbuild/linux-x86_64-3.11/cmake-install/llama_cpp/llama.py -> _skbuild/linux-x86_64-3.11/setuptools/lib.linux-x86_64-cpython-311/llama_cpp\n",
            "  copying _skbuild/linux-x86_64-3.11/cmake-install/llama_cpp/__init__.py -> _skbuild/linux-x86_64-3.11/setuptools/lib.linux-x86_64-cpython-311/llama_cpp\n",
            "  copying _skbuild/linux-x86_64-3.11/cmake-install/llama_cpp/utils.py -> _skbuild/linux-x86_64-3.11/setuptools/lib.linux-x86_64-cpython-311/llama_cpp\n",
            "  copying _skbuild/linux-x86_64-3.11/cmake-install/llama_cpp/llama_types.py -> _skbuild/linux-x86_64-3.11/setuptools/lib.linux-x86_64-cpython-311/llama_cpp\n",
            "  copying _skbuild/linux-x86_64-3.11/cmake-install/llama_cpp/llama_grammar.py -> _skbuild/linux-x86_64-3.11/setuptools/lib.linux-x86_64-cpython-311/llama_cpp\n",
            "  copying _skbuild/linux-x86_64-3.11/cmake-install/llama_cpp/llama_cpp.py -> _skbuild/linux-x86_64-3.11/setuptools/lib.linux-x86_64-cpython-311/llama_cpp\n",
            "  copying _skbuild/linux-x86_64-3.11/cmake-install/llama_cpp/server/app.py -> _skbuild/linux-x86_64-3.11/setuptools/lib.linux-x86_64-cpython-311/llama_cpp/server\n",
            "  copying _skbuild/linux-x86_64-3.11/cmake-install/llama_cpp/server/__init__.py -> _skbuild/linux-x86_64-3.11/setuptools/lib.linux-x86_64-cpython-311/llama_cpp/server\n",
            "  copying _skbuild/linux-x86_64-3.11/cmake-install/llama_cpp/server/__main__.py -> _skbuild/linux-x86_64-3.11/setuptools/lib.linux-x86_64-cpython-311/llama_cpp/server\n",
            "  copied 9 files\n",
            "  running build_ext\n",
            "  installing to _skbuild/linux-x86_64-3.11/setuptools/bdist.linux-x86_64/wheel\n",
            "  running install\n",
            "  running install_lib\n",
            "  creating _skbuild/linux-x86_64-3.11/setuptools/bdist.linux-x86_64\n",
            "  creating _skbuild/linux-x86_64-3.11/setuptools/bdist.linux-x86_64/wheel\n",
            "  creating _skbuild/linux-x86_64-3.11/setuptools/bdist.linux-x86_64/wheel/llama_cpp\n",
            "  copying _skbuild/linux-x86_64-3.11/setuptools/lib.linux-x86_64-cpython-311/llama_cpp/llama.py -> _skbuild/linux-x86_64-3.11/setuptools/bdist.linux-x86_64/wheel/llama_cpp\n",
            "  copying _skbuild/linux-x86_64-3.11/setuptools/lib.linux-x86_64-cpython-311/llama_cpp/libllama.so -> _skbuild/linux-x86_64-3.11/setuptools/bdist.linux-x86_64/wheel/llama_cpp\n",
            "  copying _skbuild/linux-x86_64-3.11/setuptools/lib.linux-x86_64-cpython-311/llama_cpp/__init__.py -> _skbuild/linux-x86_64-3.11/setuptools/bdist.linux-x86_64/wheel/llama_cpp\n",
            "  copying _skbuild/linux-x86_64-3.11/setuptools/lib.linux-x86_64-cpython-311/llama_cpp/utils.py -> _skbuild/linux-x86_64-3.11/setuptools/bdist.linux-x86_64/wheel/llama_cpp\n",
            "  copying _skbuild/linux-x86_64-3.11/setuptools/lib.linux-x86_64-cpython-311/llama_cpp/llama_types.py -> _skbuild/linux-x86_64-3.11/setuptools/bdist.linux-x86_64/wheel/llama_cpp\n",
            "  creating _skbuild/linux-x86_64-3.11/setuptools/bdist.linux-x86_64/wheel/llama_cpp/server\n",
            "  copying _skbuild/linux-x86_64-3.11/setuptools/lib.linux-x86_64-cpython-311/llama_cpp/server/app.py -> _skbuild/linux-x86_64-3.11/setuptools/bdist.linux-x86_64/wheel/llama_cpp/server\n",
            "  copying _skbuild/linux-x86_64-3.11/setuptools/lib.linux-x86_64-cpython-311/llama_cpp/server/__init__.py -> _skbuild/linux-x86_64-3.11/setuptools/bdist.linux-x86_64/wheel/llama_cpp/server\n",
            "  copying _skbuild/linux-x86_64-3.11/setuptools/lib.linux-x86_64-cpython-311/llama_cpp/server/__main__.py -> _skbuild/linux-x86_64-3.11/setuptools/bdist.linux-x86_64/wheel/llama_cpp/server\n",
            "  copying _skbuild/linux-x86_64-3.11/setuptools/lib.linux-x86_64-cpython-311/llama_cpp/llama_grammar.py -> _skbuild/linux-x86_64-3.11/setuptools/bdist.linux-x86_64/wheel/llama_cpp\n",
            "  copying _skbuild/linux-x86_64-3.11/setuptools/lib.linux-x86_64-cpython-311/llama_cpp/py.typed -> _skbuild/linux-x86_64-3.11/setuptools/bdist.linux-x86_64/wheel/llama_cpp\n",
            "  copying _skbuild/linux-x86_64-3.11/setuptools/lib.linux-x86_64-cpython-311/llama_cpp/llama_cpp.py -> _skbuild/linux-x86_64-3.11/setuptools/bdist.linux-x86_64/wheel/llama_cpp\n",
            "  copied 11 files\n",
            "  running install_data\n",
            "  creating _skbuild/linux-x86_64-3.11/setuptools/bdist.linux-x86_64/wheel/llama_cpp_python-0.1.78.data\n",
            "  creating _skbuild/linux-x86_64-3.11/setuptools/bdist.linux-x86_64/wheel/llama_cpp_python-0.1.78.data/data\n",
            "  creating _skbuild/linux-x86_64-3.11/setuptools/bdist.linux-x86_64/wheel/llama_cpp_python-0.1.78.data/data/lib\n",
            "  copying _skbuild/linux-x86_64-3.11/cmake-install/lib/libllama.so -> _skbuild/linux-x86_64-3.11/setuptools/bdist.linux-x86_64/wheel/llama_cpp_python-0.1.78.data/data/lib\n",
            "  copying _skbuild/linux-x86_64-3.11/cmake-install/lib/libggml_shared.so -> _skbuild/linux-x86_64-3.11/setuptools/bdist.linux-x86_64/wheel/llama_cpp_python-0.1.78.data/data/lib\n",
            "  creating _skbuild/linux-x86_64-3.11/setuptools/bdist.linux-x86_64/wheel/llama_cpp_python-0.1.78.data/data/bin\n",
            "  copying _skbuild/linux-x86_64-3.11/cmake-install/bin/convert-lora-to-ggml.py -> _skbuild/linux-x86_64-3.11/setuptools/bdist.linux-x86_64/wheel/llama_cpp_python-0.1.78.data/data/bin\n",
            "  copying _skbuild/linux-x86_64-3.11/cmake-install/bin/convert.py -> _skbuild/linux-x86_64-3.11/setuptools/bdist.linux-x86_64/wheel/llama_cpp_python-0.1.78.data/data/bin\n",
            "  running install_egg_info\n",
            "  running egg_info\n",
            "  writing llama_cpp_python.egg-info/PKG-INFO\n",
            "  writing dependency_links to llama_cpp_python.egg-info/dependency_links.txt\n",
            "  writing requirements to llama_cpp_python.egg-info/requires.txt\n",
            "  writing top-level names to llama_cpp_python.egg-info/top_level.txt\n",
            "  reading manifest file 'llama_cpp_python.egg-info/SOURCES.txt'\n",
            "  adding license file 'LICENSE.md'\n",
            "  writing manifest file 'llama_cpp_python.egg-info/SOURCES.txt'\n",
            "  Copying llama_cpp_python.egg-info to _skbuild/linux-x86_64-3.11/setuptools/bdist.linux-x86_64/wheel/llama_cpp_python-0.1.78-py3.11.egg-info\n",
            "  running install_scripts\n",
            "  copied 0 files\n",
            "  creating _skbuild/linux-x86_64-3.11/setuptools/bdist.linux-x86_64/wheel/llama_cpp_python-0.1.78.dist-info/WHEEL\n",
            "  creating '/tmp/pip-wheel-baez2jty/.tmp-aj66u4kt/llama_cpp_python-0.1.78-cp311-cp311-linux_x86_64.whl' and adding '_skbuild/linux-x86_64-3.11/setuptools/bdist.linux-x86_64/wheel' to it\n",
            "  adding 'llama_cpp/__init__.py'\n",
            "  adding 'llama_cpp/libllama.so'\n",
            "  adding 'llama_cpp/llama.py'\n",
            "  adding 'llama_cpp/llama_cpp.py'\n",
            "  adding 'llama_cpp/llama_grammar.py'\n",
            "  adding 'llama_cpp/llama_types.py'\n",
            "  adding 'llama_cpp/py.typed'\n",
            "  adding 'llama_cpp/utils.py'\n",
            "  adding 'llama_cpp/server/__init__.py'\n",
            "  adding 'llama_cpp/server/__main__.py'\n",
            "  adding 'llama_cpp/server/app.py'\n",
            "  adding 'llama_cpp_python-0.1.78.data/data/bin/convert-lora-to-ggml.py'\n",
            "  adding 'llama_cpp_python-0.1.78.data/data/bin/convert.py'\n",
            "  adding 'llama_cpp_python-0.1.78.data/data/lib/libggml_shared.so'\n",
            "  adding 'llama_cpp_python-0.1.78.data/data/lib/libllama.so'\n",
            "  adding 'llama_cpp_python-0.1.78.dist-info/LICENSE.md'\n",
            "  adding 'llama_cpp_python-0.1.78.dist-info/METADATA'\n",
            "  adding 'llama_cpp_python-0.1.78.dist-info/WHEEL'\n",
            "  adding 'llama_cpp_python-0.1.78.dist-info/top_level.txt'\n",
            "  adding 'llama_cpp_python-0.1.78.dist-info/RECORD'\n",
            "  removing _skbuild/linux-x86_64-3.11/setuptools/bdist.linux-x86_64/wheel\n",
            "\u001b[?25hdone\n",
            "  Created wheel for llama-cpp-python: filename=llama_cpp_python-0.1.78-cp311-cp311-linux_x86_64.whl size=706022 sha256=495862dd3d6ad4001b6aaf62a0a076d3ddcc6516d1a2e6faaabfc954138f7550\n",
            "  Stored in directory: /tmp/pip-ephem-wheel-cache-v35blvpx/wheels/18/69/ad/9b1cec6b18fe403616b8cfbf10021d1939cba077cee285c5c3\n",
            "Successfully built llama-cpp-python\n",
            "Installing collected packages: typing-extensions, numpy, diskcache, llama-cpp-python\n",
            "  Attempting uninstall: typing-extensions\n",
            "    Found existing installation: typing_extensions 4.11.0\n",
            "    Uninstalling typing_extensions-4.11.0:\n",
            "      Removing file or directory /home/vscode/.local/lib/python3.11/site-packages/__pycache__/typing_extensions.cpython-311.pyc\n",
            "      Removing file or directory /home/vscode/.local/lib/python3.11/site-packages/typing_extensions-4.11.0.dist-info/\n",
            "      Removing file or directory /home/vscode/.local/lib/python3.11/site-packages/typing_extensions.py\n",
            "      Successfully uninstalled typing_extensions-4.11.0\n",
            "  Attempting uninstall: numpy\n",
            "    Found existing installation: numpy 1.26.4\n",
            "    Uninstalling numpy-1.26.4:\n",
            "      Removing file or directory /home/vscode/.local/bin/f2py\n",
            "      Removing file or directory /home/vscode/.local/lib/python3.11/site-packages/numpy-1.26.4.dist-info/\n",
            "      Removing file or directory /home/vscode/.local/lib/python3.11/site-packages/numpy.libs/\n",
            "      Removing file or directory /home/vscode/.local/lib/python3.11/site-packages/numpy/\n",
            "      Successfully uninstalled numpy-1.26.4\n",
            "  changing mode of /home/vscode/.local/bin/f2py to 755\n",
            "  Attempting uninstall: diskcache\n",
            "    Found existing installation: diskcache 5.6.3\n",
            "    Uninstalling diskcache-5.6.3:\n",
            "      Removing file or directory /home/vscode/.local/lib/python3.11/site-packages/diskcache-5.6.3.dist-info/\n",
            "      Removing file or directory /home/vscode/.local/lib/python3.11/site-packages/diskcache/\n",
            "      Successfully uninstalled diskcache-5.6.3\n",
            "  Attempting uninstall: llama-cpp-python\n",
            "    Found existing installation: llama_cpp_python 0.1.78\n",
            "    Uninstalling llama_cpp_python-0.1.78:\n",
            "      Removing file or directory /home/vscode/.local/lib/python3.11/site-packages/llama_cpp/\n",
            "      Removing file or directory /home/vscode/.local/lib/python3.11/site-packages/llama_cpp_python-0.1.78.dist-info/\n",
            "      Successfully uninstalled llama_cpp_python-0.1.78\n",
            "Successfully installed diskcache-5.6.3 llama-cpp-python-0.1.78 numpy-1.26.4 typing-extensions-4.11.0\n"
          ]
        }
      ],
      "source": [
        "# GPU llama-cpp-python\n",
        "!CMAKE_ARGS=\"-DLLAMA_CUBLAS=on\" FORCE_CMAKE=1 pip install llama-cpp-python==0.1.78 --force-reinstall --upgrade --no-cache-dir --verbose"
      ]
    },
    {
      "cell_type": "code",
      "execution_count": 2,
      "metadata": {},
      "outputs": [
        {
          "name": "stdout",
          "output_type": "stream",
          "text": [
            "Defaulting to user installation because normal site-packages is not writeable\n",
            "Requirement already satisfied: llama-cpp-python==0.1.78 in /home/vscode/.local/lib/python3.11/site-packages (0.1.78)\n",
            "Requirement already satisfied: typing-extensions>=4.5.0 in /home/vscode/.local/lib/python3.11/site-packages (from llama-cpp-python==0.1.78) (4.11.0)\n",
            "Requirement already satisfied: numpy>=1.20.0 in /home/vscode/.local/lib/python3.11/site-packages (from llama-cpp-python==0.1.78) (1.26.4)\n",
            "Requirement already satisfied: diskcache>=5.6.1 in /home/vscode/.local/lib/python3.11/site-packages (from llama-cpp-python==0.1.78) (5.6.3)\n"
          ]
        }
      ],
      "source": [
        "!pip install llama-cpp-python==0.1.78\n"
      ]
    },
    {
      "cell_type": "code",
      "execution_count": 3,
      "metadata": {},
      "outputs": [
        {
          "name": "stdout",
          "output_type": "stream",
          "text": [
            "Defaulting to user installation because normal site-packages is not writeable\n",
            "Requirement already satisfied: PyPDF2 in /home/vscode/.local/lib/python3.11/site-packages (3.0.1)\n"
          ]
        }
      ],
      "source": [
        "!pip install PyPDF2"
      ]
    },
    {
      "cell_type": "code",
      "execution_count": 4,
      "metadata": {
        "colab": {
          "base_uri": "https://localhost:8080/"
        },
        "id": "b_nBHTYSoIWV",
        "outputId": "e26e7ddd-6772-4aa1-ede8-2e2ede3c244b"
      },
      "outputs": [
        {
          "name": "stdout",
          "output_type": "stream",
          "text": [
            "Defaulting to user installation because normal site-packages is not writeable\n",
            "Requirement already satisfied: huggingface_hub in /home/vscode/.local/lib/python3.11/site-packages (0.22.2)\n",
            "Requirement already satisfied: filelock in /home/vscode/.local/lib/python3.11/site-packages (from huggingface_hub) (3.13.4)\n",
            "Requirement already satisfied: fsspec>=2023.5.0 in /home/vscode/.local/lib/python3.11/site-packages (from huggingface_hub) (2024.3.1)\n",
            "Requirement already satisfied: packaging>=20.9 in /home/vscode/.local/lib/python3.11/site-packages (from huggingface_hub) (24.0)\n",
            "Requirement already satisfied: pyyaml>=5.1 in /home/vscode/.local/lib/python3.11/site-packages (from huggingface_hub) (6.0.1)\n",
            "Requirement already satisfied: requests in /home/vscode/.local/lib/python3.11/site-packages (from huggingface_hub) (2.31.0)\n",
            "Requirement already satisfied: tqdm>=4.42.1 in /home/vscode/.local/lib/python3.11/site-packages (from huggingface_hub) (4.66.2)\n",
            "Requirement already satisfied: typing-extensions>=3.7.4.3 in /home/vscode/.local/lib/python3.11/site-packages (from huggingface_hub) (4.11.0)\n",
            "Requirement already satisfied: charset-normalizer<4,>=2 in /home/vscode/.local/lib/python3.11/site-packages (from requests->huggingface_hub) (3.3.2)\n",
            "Requirement already satisfied: idna<4,>=2.5 in /home/vscode/.local/lib/python3.11/site-packages (from requests->huggingface_hub) (3.7)\n",
            "Requirement already satisfied: urllib3<3,>=1.21.1 in /home/vscode/.local/lib/python3.11/site-packages (from requests->huggingface_hub) (2.2.1)\n",
            "Requirement already satisfied: certifi>=2017.4.17 in /home/vscode/.local/lib/python3.11/site-packages (from requests->huggingface_hub) (2024.2.2)\n"
          ]
        }
      ],
      "source": [
        "# For download the models\n",
        "!pip install huggingface_hub"
      ]
    },
    {
      "cell_type": "markdown",
      "metadata": {
        "id": "tx-5Fgx80UXj"
      },
      "source": [
        "We can quantize the model using this library, but for practical purposes, it is better to use pre-quantized models. The resulting model is only compatible with libraries that support GGML.\n",
        "\n",
        "\n",
        "```\n",
        "# obtain the original LLaMA model weights and place them in ./models\n",
        "ls ./models\n",
        "65B 30B 13B 7B tokenizer_checklist.chk tokenizer.model\n",
        "\n",
        "# install Python dependencies\n",
        "python3 -m pip install -r requirements.txt\n",
        "\n",
        "# convert the 7B model to ggml FP16 format\n",
        "python3 convert.py models/7B/\n",
        "\n",
        "# quantize the model to 4-bits (using q4_0 method)\n",
        "./quantize ./models/7B/ggml-model-f16.bin ./models/7B/ggml-model-q4_0.bin q4_0\n",
        "\n",
        "# run the inference\n",
        "./main -m ./models/7B/ggml-model-q4_0.bin -n 128\n",
        "```\n",
        "\n"
      ]
    },
    {
      "cell_type": "code",
      "execution_count": 5,
      "metadata": {
        "id": "oI-kXwg5bHF-"
      },
      "outputs": [],
      "source": [
        "\n",
        "model_name_or_path = \"TheBloke/Llama-2-13B-chat-GGML\"\n",
        "model_basename = \"llama-2-13b-chat.ggmlv3.q5_1.bin\" # the model is in bin format"
      ]
    },
    {
      "cell_type": "markdown",
      "metadata": {
        "id": "8Td05XSuiWdI"
      },
      "source": [
        "First, we download the model"
      ]
    },
    {
      "cell_type": "code",
      "execution_count": 6,
      "metadata": {
        "colab": {
          "base_uri": "https://localhost:8080/",
          "height": 178,
          "referenced_widgets": [
            "e442375aaa9b4719ab281ccb33451c29",
            "eb81fa8ed14142668d1479f7eec7ba18",
            "01f006c4843a4c13912a9b91553a1a8b",
            "32a8e96ee29a4a29bb15c92463171296",
            "1d1896b296cc40b4b8cf01a2abb64aff",
            "9caf0b1f360b472cb6689ed367e353e4",
            "1bc9a287ec714f53891681b1868904b6",
            "936cb5b47ca0400cb3894cbb9714add7",
            "34f71c18efae40689851723bbebd0b04",
            "7e1b8bc7e94a450f89e1df353fdd8906",
            "884fdce01af1489fba98b851bf96075a"
          ]
        },
        "id": "cBEJr-G-2ht4",
        "outputId": "f18a4859-416b-45cc-d319-1fbc0265b1a1"
      },
      "outputs": [
        {
          "name": "stderr",
          "output_type": "stream",
          "text": [
            "/home/vscode/.local/lib/python3.11/site-packages/tqdm/auto.py:21: TqdmWarning: IProgress not found. Please update jupyter and ipywidgets. See https://ipywidgets.readthedocs.io/en/stable/user_install.html\n",
            "  from .autonotebook import tqdm as notebook_tqdm\n"
          ]
        }
      ],
      "source": [
        "from huggingface_hub import hf_hub_download\n",
        "\n",
        "model_path = hf_hub_download(repo_id=model_name_or_path, filename=model_basename)"
      ]
    },
    {
      "cell_type": "markdown",
      "metadata": {
        "id": "max1jwxvCSbm"
      },
      "source": [
        "# Inference with llama-cpp-python"
      ]
    },
    {
      "cell_type": "markdown",
      "metadata": {
        "id": "8TOfnZpj394g"
      },
      "source": [
        "Loading the model"
      ]
    },
    {
      "cell_type": "code",
      "execution_count": 7,
      "metadata": {
        "colab": {
          "base_uri": "https://localhost:8080/",
          "height": 36
        },
        "id": "ucSq8zvrvXaE",
        "outputId": "c72751fe-c957-4aac-e5f9-156b12819d33"
      },
      "outputs": [
        {
          "data": {
            "text/plain": [
              "'/home/vscode/.cache/huggingface/hub/models--TheBloke--Llama-2-13B-chat-GGML/snapshots/3140827b4dfcb6b562cd87ee3d7f07109b014dd0/llama-2-13b-chat.ggmlv3.q5_1.bin'"
            ]
          },
          "execution_count": 7,
          "metadata": {},
          "output_type": "execute_result"
        }
      ],
      "source": [
        "model_path"
      ]
    },
    {
      "cell_type": "code",
      "execution_count": 8,
      "metadata": {
        "colab": {
          "base_uri": "https://localhost:8080/"
        },
        "id": "oY1bItJu4Zfv",
        "outputId": "eee2291c-539d-4d87-c59a-3312a399407d"
      },
      "outputs": [
        {
          "name": "stderr",
          "output_type": "stream",
          "text": [
            "llama.cpp: loading model from /home/vscode/.cache/huggingface/hub/models--TheBloke--Llama-2-13B-chat-GGML/snapshots/3140827b4dfcb6b562cd87ee3d7f07109b014dd0/llama-2-13b-chat.ggmlv3.q5_1.bin\n",
            "llama_model_load_internal: format     = ggjt v3 (latest)\n",
            "llama_model_load_internal: n_vocab    = 32000\n",
            "llama_model_load_internal: n_ctx      = 4096\n",
            "llama_model_load_internal: n_embd     = 5120\n",
            "llama_model_load_internal: n_mult     = 256\n",
            "llama_model_load_internal: n_head     = 40\n",
            "llama_model_load_internal: n_head_kv  = 40\n",
            "llama_model_load_internal: n_layer    = 40\n",
            "llama_model_load_internal: n_rot      = 128\n",
            "llama_model_load_internal: n_gqa      = 1\n",
            "llama_model_load_internal: rnorm_eps  = 5.0e-06\n",
            "llama_model_load_internal: n_ff       = 13824\n",
            "llama_model_load_internal: freq_base  = 10000.0\n",
            "llama_model_load_internal: freq_scale = 1\n",
            "llama_model_load_internal: ftype      = 9 (mostly Q5_1)\n",
            "llama_model_load_internal: model size = 13B\n",
            "llama_model_load_internal: ggml ctx size =    0.11 MB\n",
            "llama_model_load_internal: mem required  = 9311.07 MB (+ 3200.00 MB per state)\n",
            "llama_new_context_with_model: kv self size  = 3200.00 MB\n",
            "AVX = 1 | AVX2 = 1 | AVX512 = 0 | AVX512_VBMI = 0 | AVX512_VNNI = 0 | FMA = 1 | NEON = 0 | ARM_FMA = 0 | F16C = 1 | FP16_VA = 0 | WASM_SIMD = 0 | BLAS = 0 | SSE3 = 1 | VSX = 0 | \n",
            "llama_new_context_with_model: compute buffer total size =  351.35 MB\n"
          ]
        }
      ],
      "source": [
        "# GPU\n",
        "from llama_cpp import Llama\n",
        "lcpp_llm = None\n",
        "lcpp_llm = Llama(\n",
        "    model_path=model_path,\n",
        "    n_threads=2, # CPU cores\n",
        "    n_batch=512, # Should be between 1 and n_ctx, consider the amount of VRAM in your GPU.\n",
        "    n_gpu_layers=43, # Change this value based on your model and your GPU VRAM pool.\n",
        "    n_ctx=4096, # Context window 4096\n",
        ")"
      ]
    },
    {
      "cell_type": "code",
      "execution_count": null,
      "metadata": {},
      "outputs": [],
      "source": []
    },
    {
      "cell_type": "markdown",
      "metadata": {
        "id": "UdZnPtB8-Bhx"
      },
      "source": [
        "\n",
        "For run in CPU\n",
        "```\n",
        "# CPU\n",
        "from llama_cpp import Llama\n",
        "\n",
        "lcpp_llm = Llama(\n",
        "    model_path=model_path,\n",
        "    n_threads=2, # CPU cores\n",
        "    )\n",
        "```\n",
        "\n"
      ]
    },
    {
      "cell_type": "code",
      "execution_count": 9,
      "metadata": {
        "colab": {
          "base_uri": "https://localhost:8080/"
        },
        "id": "BeH6eWiKuaxW",
        "outputId": "66d19182-5f89-49ab-83c2-1f0d88998aab"
      },
      "outputs": [
        {
          "data": {
            "text/plain": [
              "43"
            ]
          },
          "execution_count": 9,
          "metadata": {},
          "output_type": "execute_result"
        }
      ],
      "source": [
        "# See the number of layers in GPU\n",
        "lcpp_llm.params.n_gpu_layers"
      ]
    },
    {
      "cell_type": "markdown",
      "metadata": {
        "id": "qLEEOufGVlID"
      },
      "source": [
        "We will use this prompt."
      ]
    },
    {
      "cell_type": "code",
      "execution_count": 10,
      "metadata": {
        "id": "-NzVIlMCVoVD"
      },
      "outputs": [],
      "source": [
        "# prompt = \"Write a linear regression in python\"\n",
        "# prompt_template=f'''SYSTEM: You are a helpful, respectful and honest assistant. Always answer as helpfully.\n",
        "\n",
        "# USER: {prompt}\n",
        "\n",
        "# ASSISTANT:\n",
        "# '''"
      ]
    },
    {
      "cell_type": "code",
      "execution_count": 11,
      "metadata": {
        "id": "A_w0D3VvfT3N"
      },
      "outputs": [],
      "source": [
        "\n",
        "import pandas as pd\n",
        "\n",
        "import pandas as pd\n",
        "\n",
        "data = {\n",
        "    'Question': [\n",
        "        \"what is the candidate name? answer with the name only\",\n",
        "        \"what is the candidate degree? only answer with the degree for example: bachelor ..etc without the degree name\",\n",
        "        \"How many years of experience the candidate have? answer as a number\",\n",
        "        \"How many technical experience the candidate have? include only technical work experience answer as a number\",\n",
        "        \"Did the candidate worked for a ministry, authority, or government agency in Saudi Arabia? format your answer to be yes or no\",\n",
        "        \"Please review the candidate's resume and provide a list of their skills?\",\n",
        "        \"Please review the candidate's resume and provide a list of their certificates?\",\n",
        "        \"What is the candidate's email? answer with only the email\",\n",
        "        \"What is the candidate's count of certificates? answer with a number only\",\n",
        "        \"What is the candidate's count of skills? answer with a number only\",\n",
        "        \"What is the candidate's moblie or phone? answer with numbe only\",\n",
        "        \"What is the candidate's speciality? \",\n",
        "        \"What is the candidate's major? answer witht he major only\",\n",
        "        \"What is the candidate's gender?\",\n",
        "        \"What is the candidate's expected Nationality? \",\n",
        "        \"What is the candidate's Job Title? answer with short answer \"\n",
        "\n",
        "\n",
        "\n",
        "    ],\n",
        "    'title': [\n",
        "        \"Applicant Name\",\n",
        "        \"Education Level\",\n",
        "        \"Experience\",\n",
        "        \"Ex_tech\",\n",
        "        \"EX_Gov\",\n",
        "        \"Skills\",\n",
        "        \"Certification\",\n",
        "        \"Email\",\n",
        "        \"Count_CER\",\n",
        "        \"Count_Skill\",\n",
        "        \"Contact No\",\n",
        "        \"Speciality\",\n",
        "        \"Major\",\n",
        "        \"Gender\",\n",
        "        \"Nationality\",\n",
        "        \"job title\"\n",
        "    ]\n",
        "}\n",
        "\n",
        "questions = pd.DataFrame(data)"
      ]
    },
    {
      "cell_type": "code",
      "execution_count": 12,
      "metadata": {
        "colab": {
          "base_uri": "https://localhost:8080/",
          "height": 551
        },
        "id": "RRLTXIDgfVZ4",
        "outputId": "36355368-efce-4607-8266-62327aeb9957"
      },
      "outputs": [
        {
          "data": {
            "text/html": [
              "<div>\n",
              "<style scoped>\n",
              "    .dataframe tbody tr th:only-of-type {\n",
              "        vertical-align: middle;\n",
              "    }\n",
              "\n",
              "    .dataframe tbody tr th {\n",
              "        vertical-align: top;\n",
              "    }\n",
              "\n",
              "    .dataframe thead th {\n",
              "        text-align: right;\n",
              "    }\n",
              "</style>\n",
              "<table border=\"1\" class=\"dataframe\">\n",
              "  <thead>\n",
              "    <tr style=\"text-align: right;\">\n",
              "      <th></th>\n",
              "      <th>Question</th>\n",
              "      <th>title</th>\n",
              "    </tr>\n",
              "  </thead>\n",
              "  <tbody>\n",
              "    <tr>\n",
              "      <th>0</th>\n",
              "      <td>what is the candidate name? answer with the na...</td>\n",
              "      <td>Applicant Name</td>\n",
              "    </tr>\n",
              "    <tr>\n",
              "      <th>1</th>\n",
              "      <td>what is the candidate degree? only answer with...</td>\n",
              "      <td>Education Level</td>\n",
              "    </tr>\n",
              "    <tr>\n",
              "      <th>2</th>\n",
              "      <td>How many years of experience the candidate hav...</td>\n",
              "      <td>Experience</td>\n",
              "    </tr>\n",
              "    <tr>\n",
              "      <th>3</th>\n",
              "      <td>How many technical experience the candidate ha...</td>\n",
              "      <td>Ex_tech</td>\n",
              "    </tr>\n",
              "    <tr>\n",
              "      <th>4</th>\n",
              "      <td>Did the candidate worked for a ministry, autho...</td>\n",
              "      <td>EX_Gov</td>\n",
              "    </tr>\n",
              "    <tr>\n",
              "      <th>5</th>\n",
              "      <td>Please review the candidate's resume and provi...</td>\n",
              "      <td>Skills</td>\n",
              "    </tr>\n",
              "    <tr>\n",
              "      <th>6</th>\n",
              "      <td>Please review the candidate's resume and provi...</td>\n",
              "      <td>Certification</td>\n",
              "    </tr>\n",
              "    <tr>\n",
              "      <th>7</th>\n",
              "      <td>What is the candidate's email? answer with onl...</td>\n",
              "      <td>Email</td>\n",
              "    </tr>\n",
              "    <tr>\n",
              "      <th>8</th>\n",
              "      <td>What is the candidate's count of certificates?...</td>\n",
              "      <td>Count_CER</td>\n",
              "    </tr>\n",
              "    <tr>\n",
              "      <th>9</th>\n",
              "      <td>What is the candidate's count of skills? answe...</td>\n",
              "      <td>Count_Skill</td>\n",
              "    </tr>\n",
              "    <tr>\n",
              "      <th>10</th>\n",
              "      <td>What is the candidate's moblie or phone? answe...</td>\n",
              "      <td>Contact No</td>\n",
              "    </tr>\n",
              "    <tr>\n",
              "      <th>11</th>\n",
              "      <td>What is the candidate's speciality?</td>\n",
              "      <td>Speciality</td>\n",
              "    </tr>\n",
              "    <tr>\n",
              "      <th>12</th>\n",
              "      <td>What is the candidate's major? answer witht he...</td>\n",
              "      <td>Major</td>\n",
              "    </tr>\n",
              "    <tr>\n",
              "      <th>13</th>\n",
              "      <td>What is the candidate's gender?</td>\n",
              "      <td>Gender</td>\n",
              "    </tr>\n",
              "    <tr>\n",
              "      <th>14</th>\n",
              "      <td>What is the candidate's expected Nationality?</td>\n",
              "      <td>Nationality</td>\n",
              "    </tr>\n",
              "    <tr>\n",
              "      <th>15</th>\n",
              "      <td>What is the candidate's Job Title? answer with...</td>\n",
              "      <td>job title</td>\n",
              "    </tr>\n",
              "  </tbody>\n",
              "</table>\n",
              "</div>"
            ],
            "text/plain": [
              "                                             Question            title\n",
              "0   what is the candidate name? answer with the na...   Applicant Name\n",
              "1   what is the candidate degree? only answer with...  Education Level\n",
              "2   How many years of experience the candidate hav...       Experience\n",
              "3   How many technical experience the candidate ha...          Ex_tech\n",
              "4   Did the candidate worked for a ministry, autho...           EX_Gov\n",
              "5   Please review the candidate's resume and provi...           Skills\n",
              "6   Please review the candidate's resume and provi...    Certification\n",
              "7   What is the candidate's email? answer with onl...            Email\n",
              "8   What is the candidate's count of certificates?...        Count_CER\n",
              "9   What is the candidate's count of skills? answe...      Count_Skill\n",
              "10  What is the candidate's moblie or phone? answe...       Contact No\n",
              "11               What is the candidate's speciality?        Speciality\n",
              "12  What is the candidate's major? answer witht he...            Major\n",
              "13                    What is the candidate's gender?           Gender\n",
              "14     What is the candidate's expected Nationality?       Nationality\n",
              "15  What is the candidate's Job Title? answer with...        job title"
            ]
          },
          "execution_count": 12,
          "metadata": {},
          "output_type": "execute_result"
        }
      ],
      "source": [
        "questions"
      ]
    },
    {
      "cell_type": "code",
      "execution_count": 13,
      "metadata": {
        "colab": {
          "base_uri": "https://localhost:8080/"
        },
        "id": "l67gdY-giMxQ",
        "outputId": "21e33aae-4a2a-4b65-80fe-30b401849b84"
      },
      "outputs": [
        {
          "name": "stdout",
          "output_type": "stream",
          "text": [
            "Defaulting to user installation because normal site-packages is not writeable\n",
            "Requirement already satisfied: PyPDF2 in /home/vscode/.local/lib/python3.11/site-packages (3.0.1)\n"
          ]
        }
      ],
      "source": [
        "# @title\n",
        "!pip install PyPDF2"
      ]
    },
    {
      "cell_type": "code",
      "execution_count": 14,
      "metadata": {
        "colab": {
          "base_uri": "https://localhost:8080/"
        },
        "id": "JHNIzEEiiJU_",
        "outputId": "96e6e989-c417-4525-ff52-d8a665cce13e"
      },
      "outputs": [
        {
          "name": "stdout",
          "output_type": "stream",
          "text": [
            "  Filename                                               Text\n",
            "0  CV1.pdf  Mohammad Ali  \\nEmail: Mali@gmail.com  \\nMobil...\n"
          ]
        }
      ],
      "source": [
        "import os\n",
        "import PyPDF2\n",
        "import pandas as pd\n",
        "\n",
        "# Specify the folder path containing the PDF files\n",
        "folder_path = '/workspaces/hc-usecase/CVs'\n",
        "\n",
        "# Initialize an empty dataframe\n",
        "df = pd.DataFrame(columns=['Filename', 'Text'])\n",
        "\n",
        "# Iterate over each file in the folder\n",
        "for filename in os.listdir(folder_path):\n",
        "    if filename.endswith('.pdf'):\n",
        "        file_path = os.path.join(folder_path, filename)\n",
        "\n",
        "        # Open the PDF file\n",
        "        with open(file_path, 'rb') as file:\n",
        "            # Create a PDF reader object\n",
        "            reader = PyPDF2.PdfReader(file)\n",
        "\n",
        "            # Extract text from each page of the PDF\n",
        "            text = ''\n",
        "            for page in range(len(reader.pages)):\n",
        "                text += reader.pages[page].extract_text()\n",
        "\n",
        "            # Create a new DataFrame with the filename and extracted text\n",
        "            new_row = pd.DataFrame({'Filename': [filename], 'Text': [text]})\n",
        "\n",
        "            # Append the new row to the DataFrame using concat\n",
        "            df = pd.concat([df, new_row], ignore_index=True)\n",
        "\n",
        "# Print the DataFrame\n",
        "print(df)"
      ]
    },
    {
      "cell_type": "code",
      "execution_count": 15,
      "metadata": {
        "colab": {
          "base_uri": "https://localhost:8080/",
          "height": 3349
        },
        "id": "suEdfsulmUKq",
        "outputId": "a0f2594d-2368-48a4-f826-a4b7f3587343"
      },
      "outputs": [
        {
          "data": {
            "text/html": [
              "<div>\n",
              "<style scoped>\n",
              "    .dataframe tbody tr th:only-of-type {\n",
              "        vertical-align: middle;\n",
              "    }\n",
              "\n",
              "    .dataframe tbody tr th {\n",
              "        vertical-align: top;\n",
              "    }\n",
              "\n",
              "    .dataframe thead th {\n",
              "        text-align: right;\n",
              "    }\n",
              "</style>\n",
              "<table border=\"1\" class=\"dataframe\">\n",
              "  <thead>\n",
              "    <tr style=\"text-align: right;\">\n",
              "      <th></th>\n",
              "      <th>Filename</th>\n",
              "      <th>Text</th>\n",
              "    </tr>\n",
              "  </thead>\n",
              "  <tbody>\n",
              "    <tr>\n",
              "      <th>0</th>\n",
              "      <td>CV1.pdf</td>\n",
              "      <td>Mohammad Ali  \\nEmail: Mali@gmail.com  \\nMobil...</td>\n",
              "    </tr>\n",
              "  </tbody>\n",
              "</table>\n",
              "</div>"
            ],
            "text/plain": [
              "  Filename                                               Text\n",
              "0  CV1.pdf  Mohammad Ali  \\nEmail: Mali@gmail.com  \\nMobil..."
            ]
          },
          "execution_count": 15,
          "metadata": {},
          "output_type": "execute_result"
        }
      ],
      "source": [
        "df"
      ]
    },
    {
      "cell_type": "code",
      "execution_count": 16,
      "metadata": {
        "colab": {
          "base_uri": "https://localhost:8080/"
        },
        "id": "uhFr0jWmh9KC",
        "outputId": "0264d943-9b44-4ad0-9263-1aa1dee6c71d"
      },
      "outputs": [
        {
          "name": "stderr",
          "output_type": "stream",
          "text": [
            "\n",
            "llama_print_timings:        load time = 549876.86 ms\n",
            "llama_print_timings:      sample time =   113.32 ms /     5 runs   (   22.66 ms per token,    44.12 tokens per second)\n",
            "llama_print_timings: prompt eval time = 738674.04 ms /   649 tokens ( 1138.17 ms per token,     0.88 tokens per second)\n",
            "llama_print_timings:        eval time = 309421.76 ms /     4 runs   (77355.44 ms per token,     0.01 tokens per second)\n",
            "llama_print_timings:       total time = 1048722.42 ms\n"
          ]
        },
        {
          "name": "stdout",
          "output_type": "stream",
          "text": [
            "Mohammad Ali\n"
          ]
        },
        {
          "name": "stderr",
          "output_type": "stream",
          "text": [
            "Llama.generate: prefix-match hit\n",
            "\n",
            "llama_print_timings:        load time = 549876.86 ms\n",
            "llama_print_timings:      sample time =    38.60 ms /     3 runs   (   12.87 ms per token,    77.71 tokens per second)\n",
            "llama_print_timings: prompt eval time = 80926.14 ms /    25 tokens ( 3237.05 ms per token,     0.31 tokens per second)\n",
            "llama_print_timings:        eval time = 158926.98 ms /     2 runs   (79463.49 ms per token,     0.01 tokens per second)\n",
            "llama_print_timings:       total time = 240051.74 ms\n",
            "Llama.generate: prefix-match hit\n"
          ]
        },
        {
          "name": "stdout",
          "output_type": "stream",
          "text": [
            "Bachelor\n"
          ]
        },
        {
          "name": "stderr",
          "output_type": "stream",
          "text": [
            "\n",
            "llama_print_timings:        load time = 549876.86 ms\n",
            "llama_print_timings:      sample time =   103.28 ms /     3 runs   (   34.43 ms per token,    29.05 tokens per second)\n",
            "llama_print_timings: prompt eval time = 76381.74 ms /    19 tokens ( 4020.09 ms per token,     0.25 tokens per second)\n",
            "llama_print_timings:        eval time = 156337.04 ms /     2 runs   (78168.52 ms per token,     0.01 tokens per second)\n",
            "llama_print_timings:       total time = 233148.76 ms\n"
          ]
        },
        {
          "name": "stdout",
          "output_type": "stream",
          "text": [
            "10\n"
          ]
        },
        {
          "name": "stderr",
          "output_type": "stream",
          "text": [
            "Llama.generate: prefix-match hit\n",
            "\n",
            "llama_print_timings:        load time = 549876.86 ms\n",
            "llama_print_timings:      sample time =    39.16 ms /     2 runs   (   19.58 ms per token,    51.07 tokens per second)\n",
            "llama_print_timings: prompt eval time = 82843.69 ms /    21 tokens ( 3944.94 ms per token,     0.25 tokens per second)\n",
            "llama_print_timings:        eval time = 77648.44 ms /     1 runs   (77648.44 ms per token,     0.01 tokens per second)\n",
            "llama_print_timings:       total time = 160637.64 ms\n",
            "Llama.generate: prefix-match hit\n"
          ]
        },
        {
          "name": "stdout",
          "output_type": "stream",
          "text": [
            "3\n"
          ]
        },
        {
          "name": "stderr",
          "output_type": "stream",
          "text": [
            "\n",
            "llama_print_timings:        load time = 549876.86 ms\n",
            "llama_print_timings:      sample time =    68.81 ms /     2 runs   (   34.41 ms per token,    29.06 tokens per second)\n",
            "llama_print_timings: prompt eval time = 87165.47 ms /    35 tokens ( 2490.44 ms per token,     0.40 tokens per second)\n",
            "llama_print_timings:        eval time = 73491.44 ms /     1 runs   (73491.44 ms per token,     0.01 tokens per second)\n",
            "llama_print_timings:       total time = 160912.07 ms\n"
          ]
        },
        {
          "name": "stdout",
          "output_type": "stream",
          "text": [
            "Yes\n"
          ]
        },
        {
          "name": "stderr",
          "output_type": "stream",
          "text": [
            "Llama.generate: prefix-match hit\n"
          ]
        }
      ],
      "source": [
        "import pandas as pd\n",
        "\n",
        "# Assuming you have already created the dataframe 'df'\n",
        "\n",
        "# Define a function to process each row\n",
        "def process_row(row):\n",
        "    content = row['Text']\n",
        "    file = row['Filename']\n",
        "    for index, x in questions.iterrows():\n",
        "      question = x['Question']\n",
        "      prompt_template=f'''The following content is a resume of a candidate\n",
        "\n",
        "      resume: {content}\n",
        "      answer the question: {question}\n",
        "      Answer:\n",
        "      '''\n",
        "      response = lcpp_llm(\n",
        "      prompt=prompt_template,\n",
        "      max_tokens=256,\n",
        "      temperature=0.05,\n",
        "      top_p=0.95,\n",
        "      repeat_penalty=1.2,\n",
        "      top_k=50,\n",
        "      stop = ['USER:'], # Dynamic stopping when such token is detected.\n",
        "      echo=True # return the prompt\n",
        "      )\n",
        "\n",
        "      print(response[\"choices\"][0][\"text\"].split(\"Answer:\")[1].strip())\n",
        "      df.loc[df['Filename'] == file, x['title']] = response[\"choices\"][0][\"text\"].split(\"Answer:\")[1].strip()\n",
        "\n",
        "\n",
        "# Loop through the dataframe and call the process_row function for each row\n",
        "for index, row in df.iterrows():\n",
        "    process_row(row)"
      ]
    },
    {
      "cell_type": "code",
      "execution_count": null,
      "metadata": {
        "id": "Qh6WPJWRiU3Z"
      },
      "outputs": [],
      "source": [
        "# df = df.astype(str)\n"
      ]
    },
    {
      "cell_type": "code",
      "execution_count": null,
      "metadata": {
        "id": "zLI1PQOmyDCm"
      },
      "outputs": [],
      "source": []
    },
    {
      "cell_type": "code",
      "execution_count": null,
      "metadata": {
        "colab": {
          "base_uri": "https://localhost:8080/",
          "height": 3349
        },
        "id": "egT9flA_dVIx",
        "outputId": "819ac099-0e21-424f-ab58-0b69d94f1af3"
      },
      "outputs": [],
      "source": [
        "df"
      ]
    },
    {
      "cell_type": "code",
      "execution_count": null,
      "metadata": {
        "id": "IdJYxmuAfcn2"
      },
      "outputs": [],
      "source": [
        "import re\n",
        "\n",
        "def extract_numbers(text):\n",
        "    numbers = re.findall(r'\\d+', text)\n",
        "    return numbers[0]\n",
        "\n",
        "df['Ex_tech'] = df['Ex_tech'].apply(extract_numbers)\n",
        "df['Experience'] = df['Experience'].apply(extract_numbers)"
      ]
    },
    {
      "cell_type": "code",
      "execution_count": null,
      "metadata": {
        "id": "X7_hIGp0i6iq"
      },
      "outputs": [],
      "source": [
        "# Extract \"yes\" or \"no\" using regular expressions\n",
        "df['EX_Gov'] = df['EX_Gov'].str.extract(r'(yes|no)', flags=re.IGNORECASE)\n",
        "\n"
      ]
    },
    {
      "cell_type": "code",
      "execution_count": null,
      "metadata": {
        "colab": {
          "base_uri": "https://localhost:8080/"
        },
        "id": "ahQEpxHEB1ES",
        "outputId": "a835daf0-b21a-4022-e499-e8b217a30d56"
      },
      "outputs": [],
      "source": [
        "df['Text']"
      ]
    },
    {
      "cell_type": "code",
      "execution_count": null,
      "metadata": {
        "id": "AbxffvRch946"
      },
      "outputs": [],
      "source": [
        "Original = df"
      ]
    },
    {
      "cell_type": "code",
      "execution_count": null,
      "metadata": {
        "colab": {
          "base_uri": "https://localhost:8080/",
          "height": 3349
        },
        "id": "txa44oLUgw2-",
        "outputId": "66b045c4-e1d3-436b-e906-a8cf761a067b"
      },
      "outputs": [],
      "source": [
        "Original"
      ]
    },
    {
      "cell_type": "code",
      "execution_count": null,
      "metadata": {
        "id": "G_9FmzKZmTKG"
      },
      "outputs": [],
      "source": [
        "import pandas as pd\n",
        "\n",
        "education_dict = {\n",
        "    'highschool': 1,\n",
        "    'diploma': 2,\n",
        "    'bachelor': 3,\n",
        "    'masters': 3,\n",
        "    'phd': 4,\n",
        "    'professor': 5\n",
        "}\n",
        "\n",
        "df['degree_score'] = 0\n",
        "\n",
        "for degree, score in education_dict.items():\n",
        "    df.loc[\n",
        "        df['Education Level'].str.lower().str.contains(degree),\n",
        "        'degree_score'\n",
        "    ] = score\n",
        "\n"
      ]
    },
    {
      "cell_type": "code",
      "execution_count": null,
      "metadata": {
        "colab": {
          "base_uri": "https://localhost:8080/",
          "height": 205
        },
        "id": "1-NNw3fix0QA",
        "outputId": "8f718dd2-6165-44e2-fee1-af6a1430c683"
      },
      "outputs": [],
      "source": [
        "df"
      ]
    },
    {
      "cell_type": "code",
      "execution_count": null,
      "metadata": {
        "id": "8101bfdf"
      },
      "outputs": [],
      "source": [
        "import pandas as pd\n",
        "\n",
        "def assign_ranks(df, column_name,  chosen_value):\n",
        "    df['Rank'] = 0\n",
        "    value = df.loc[df[column_name] == chosen_value, 'Score'].values[0]\n",
        "    df.loc[df['Score'] == value, 'Rank'] = 2\n",
        "    df.loc[df['Score'] < value, 'Rank'] = 1\n",
        "    df.loc[df['Score'] > value, 'Rank'] = 2\n",
        "    print(value)\n",
        "    return df\n",
        "\n",
        "def assign_ranks_1(df, column_name,  chosen_value):\n",
        "    df['Rank'] = 1\n",
        "    df['Score'] = 1\n",
        "    df.loc[df[column_name]==chosen_value, 'Rank'] = 2\n",
        "\n",
        "    return df\n",
        "\n",
        "\n",
        "\n"
      ]
    },
    {
      "cell_type": "code",
      "execution_count": null,
      "metadata": {
        "colab": {
          "base_uri": "https://localhost:8080/",
          "height": 206
        },
        "id": "cbbcb5d8",
        "outputId": "e8bd0a31-6bf2-4e7e-c48f-6e28e23a9198"
      },
      "outputs": [],
      "source": [
        "data = {\n",
        "    'Degree': ['PhD', 'Master', 'Bachelor', 'Diploma', 'High Scool'],\n",
        "    'Score': [5, 4, 3, 2,1]\n",
        "}\n",
        "\n",
        "# Create the DataFrame\n",
        "Degree = pd.DataFrame(data)\n",
        "Degree"
      ]
    },
    {
      "cell_type": "code",
      "execution_count": null,
      "metadata": {
        "id": "4b60df7b"
      },
      "outputs": [],
      "source": [
        "data = {\n",
        "    'Experience': [\"'10-11'\", \"'8-9'\", \"'6-7'\", \"'4-5'\", \"'2-3'\",\"'0-1'\"],\n",
        "    'Score': [6,5,4,3,2,1]\n",
        "}\n",
        "\n",
        "# Create the DataFrame\n",
        "Experience = pd.DataFrame(data)"
      ]
    },
    {
      "cell_type": "code",
      "execution_count": null,
      "metadata": {
        "colab": {
          "base_uri": "https://localhost:8080/"
        },
        "id": "7LTIBjiVHC9X",
        "outputId": "5c5d141f-d733-4130-9557-4d02c56d9c97"
      },
      "outputs": [],
      "source": [
        "import pandas as pd\n",
        "\n",
        "# Define the list of skills\n",
        "skills = { 'skills':[\n",
        "    'Programming Languages',\n",
        "    'Database Management',\n",
        "    'Cybersecurity',\n",
        "    'Cloud Computing',\n",
        "    'DevOps',\n",
        "    'Financial Analysis',\n",
        "    'Accounting Principles',\n",
        "    'Budgeting and Forecasting',\n",
        "    'Taxation',\n",
        "    'Financial Modeling',\n",
        "    'Patient Care',\n",
        "    'Medical Knowledge',\n",
        "    'Healthcare Technology',\n",
        "    'Regulatory Compliance',\n",
        "    'Technical Design',\n",
        "    'Project Management',\n",
        "    'Quality Control',\n",
        "    'Problem-Solving',\n",
        "    'Digital Marketing',\n",
        "    'Market Research',\n",
        "    'Brand Management',\n",
        "    'Creative Design',\n",
        "    'Operational Management',\n",
        "    'Health and Safety',\n",
        "    'Quality Assurance',\n",
        "    'Construction Planning'\n",
        "]}\n",
        "\n",
        "# Create a DataFrame from the list\n",
        "skills = pd.DataFrame(skills)\n",
        "\n",
        "# Display the DataFrame\n",
        "print(skills)"
      ]
    },
    {
      "cell_type": "code",
      "execution_count": null,
      "metadata": {
        "colab": {
          "base_uri": "https://localhost:8080/",
          "height": 770
        },
        "id": "eiJJLpfpI1En",
        "outputId": "571873bf-4338-47c1-869e-1c70d3235ab8"
      },
      "outputs": [],
      "source": [
        "# @title\n",
        "import pandas as pd\n",
        "\n",
        "# Define the list of certificates\n",
        "certificates = { 'certificates' : [\n",
        "    'Certified Information Systems Security Professional (CISSP)',\n",
        "    'Microsoft Certified',\n",
        "    'AWS Certified Solutions Architect',\n",
        "    'Cisco Certified Network Associate (CCNA) / Cisco Certified Network Professional (CCNP)',\n",
        "    'Certified ScrumMaster (CSM)',\n",
        "    'Certified Public Accountant (CPA)',\n",
        "    'Chartered Financial Analyst (CFA)',\n",
        "    'Certified Management Accountant (CMA)',\n",
        "    'Certified Internal Auditor (CIA)',\n",
        "    'Registered Nurse (RN)',\n",
        "    'Board Certified Behavior Analyst (BCBA)',\n",
        "    'Certified Clinical Medical Assistant (CCMA)',\n",
        "    'Certified Registered Nurse Anesthetist (CRNA)',\n",
        "    'Professional Engineer (PE)',\n",
        "    'Project Management Professional (PMP)',\n",
        "    'LEED Accredited Professional (LEED AP)',\n",
        "    'Google Analytics IQ Certification',\n",
        "    'HubSpot Content Marketing Certification',\n",
        "    'Certified Digital Marketing Professional (CDMP) by Digital Marketing Institute',\n",
        "    'Certified Supply Chain Professional (CSCP)',\n",
        "    'Certified in Production and Inventory Management (CPIM)',\n",
        "    'OSHA Certification',\n",
        "    'Certified Construction Manager (CCM)'\n",
        "]}\n",
        "\n",
        "# Create a DataFrame from the list\n",
        "certificates = pd.DataFrame(certificates)\n",
        "\n",
        "# Display the DataFrame\n",
        "certificates"
      ]
    },
    {
      "cell_type": "code",
      "execution_count": null,
      "metadata": {
        "colab": {
          "base_uri": "https://localhost:8080/",
          "height": 410,
          "referenced_widgets": [
            "86a0d7aa1d8a4526911029007e96d78c",
            "1e46648a485e47a282c85ad86aad7855",
            "a945321159c44a659ee831f9fcbe055e",
            "e459433fa01a4e90bce1e0aca8569b73",
            "13c0e49feeaa414781e16b82107c689a",
            "57bfccde71cf441ead7482c850731260",
            "6dfca70adb3148df93060dff1af780de",
            "9690e650b0984398be1523757bfbaaef",
            "c4a1c41905fe48f9b4e47091300f52ac",
            "47bee42ec5194c529cb84ca463a0a06f",
            "d943a664a6664f66b4d33383c4df9f80",
            "5a17ef2dd121479f8842bcc754c48b20",
            "dd78eee8cd944a168b4e34d3aacb102d",
            "bcc2d50466044141b6d639223586679d",
            "fcd5c21e51f2479a98ea4ab588d285b8",
            "cb486736e9fa41d7a27a20f321dac779",
            "497d2893ec854eba8dba95b3ae7f90a8",
            "e6ff54e6ffcb4fdb8aab921f81d665bf",
            "0d811f1b225d4dec966b2e5fd0991827",
            "d201d39401a04bebaac3c6ce299e235f",
            "7d2f81e74e97458aa534a80965006c64",
            "80ed12f778624be09bba1adc37c1ff12",
            "eaafbd6fb1df42a9b835736c4cd93b9d",
            "8c33fbd7c32e4df1a53be5ab32d30b31",
            "46a05e81a4664e709fdc331137187be1",
            "89236f5ab784439ea02b336ec137c5cd",
            "b79db56ad9334b6997e41f1ea41b0d04",
            "d44cb11b9e9647ea8599649446c860fb",
            "03151cdea5ce4be0ae683b388b210c7b",
            "e22363ed32af4a3980c2278c85ed508b",
            "200937d3554c4efb9bd67d61d4062cc8",
            "c70833be447140fa9e651c55814666c4",
            "f503542af537497dae7e0edb67aa68e2",
            "e8fc34f1735c4a34a5413ba6696a13a9",
            "c901b4b7f97e4f61af67d8f995ed7d49",
            "f27c17ceabd54112843b79171681cc43",
            "157481fb2c534dfd95fd83a0e2663a5d",
            "2384a83d5f3a4df5a3abe722b4f3b347",
            "ceca06bbb46047ea8cb821ca219da289",
            "f7809a69a2a2436da91da1808e5bfbe1",
            "9e3e87fce2904a34baa28323d45153c5",
            "9de47ee7131d4bebad49221b09074552",
            "b48961c70c424fbe9bf027f19241f958",
            "28834390994d45a59cbd3e82ac87d921",
            "799c93b1f3ea464db68a2c7d0623b4d4",
            "81764bb25b4b42a69b3cbc3fc01e4055",
            "c7dd3050633d4f64a3eaffcf027d4ad8",
            "0421c9a183dd40f49f5c6a3cd4d4ba83",
            "9faeff6db3ae448ab2b80e090fa620b5",
            "e87ce7e644d64d75bc4971a6a894ab52",
            "d1a4b870eb32497bad3fb0b664648ae0",
            "509c4e4dc3ac419eb01d1491b7c983dd",
            "425798be20ab40b9851cc5370791cdfe",
            "81978e1246a249f2873976817fdf3c67",
            "f270b2d96e394604b6a4674f7bb720d0",
            "b12a693fa70348c1b315a379a4c56e85",
            "cc71031afc414998bb033bb6181a84c1",
            "346d5e1856c04603a38b4c1199a58ad2",
            "315f515979fb4877ae6b40006c2a8057",
            "620672916ded4270a78206344b9dbf3c",
            "81ae83a80f9f46fc95d3e88e9393fbed",
            "b5ea3a22c16149148dd2bd9250a6e2ac",
            "5cc90a6e7e7a4ed6b19950a9e5db737b",
            "3657fed729914ee3bf2623fb80377649",
            "014bc9882ce54a6b9f63739f04cf1ff8",
            "2eb285ad05604f54973d3c81c6641553",
            "92474b6d615f4b6ba77374b3c5e74c78",
            "f33e12468ead47bfa07804af1a457ad5",
            "5273568d3abb4390b6d404146317b4cb",
            "7ac27776eae4455db61ee185672a4fb8",
            "4d14075c4348405996061929f73ad979"
          ]
        },
        "id": "KswSpqbXAtlb",
        "outputId": "7003f24e-93f4-455b-da7e-bb8e01751211"
      },
      "outputs": [],
      "source": [
        "import pandas as pd\n",
        "from ipywidgets import widgets, Layout, Box\n",
        "from IPython.display import display\n",
        "\n",
        "# Define the columns for the DataFrame\n",
        "columns = ['Criteria', 'Value', 'Score']\n",
        "\n",
        "# Create an empty DataFrame with the defined columns\n",
        "df = pd.DataFrame(columns=columns)\n",
        "\n",
        "\n",
        "# Dropdown widget for the degree input\n",
        "degree_options = Degree['Degree']\n",
        "degree_dropdown = widgets.Dropdown(options=degree_options, description='Degree:', style={'description_width': 'initial'})\n",
        "\n",
        "# Scroll input widget for the degree percentage\n",
        "degree_percentage = widgets.FloatSlider(value=0, min=0, max=100, step=1, description='Percentage:', style={'description_width': 'initial'})\n",
        "\n",
        "# Dropdown widget for the main specialty input\n",
        "# main_specialty_options = ['Option 1', 'Option 2', 'Option 3', 'Option 4']\n",
        "# main_specialty_dropdown = widgets.Dropdown(options=main_specialty_options, description='Main Specialty:', style={'description_width': 'initial'})\n",
        "\n",
        "# # Scroll input widget for the main specialty percentage\n",
        "# main_specialty_percentage = widgets.FloatSlider(value=0, min=0, max=100, step=1, description='Percentage:', style={'description_width': 'initial'})\n",
        "\n",
        "# Dropdown widget for the main skills input\n",
        "main_skills_options = skills['skills']\n",
        "main_skills_dropdown = widgets.Dropdown(options=main_skills_options, description='Main Skills:', style={'description_width': 'initial'})\n",
        "\n",
        "# Scroll input widget for the main skills percentage\n",
        "main_skills_percentage = widgets.FloatSlider(value=0, min=0, max=100, step=1, description='Percentage:', style={'description_width': 'initial'})\n",
        "\n",
        "# Dropdown widget for the main certificate input\n",
        "main_certificate_options = certificates['certificates']\n",
        "main_certificate_dropdown = widgets.Dropdown(options=main_certificate_options, description='Main Certificate:', style={'description_width': 'initial'})\n",
        "\n",
        "# Scroll input widget for the main certificate percentage\n",
        "main_certificate_percentage = widgets.FloatSlider(value=0, min=0, max=100, step=1, description='Percentage:', style={'description_width': 'initial'})\n",
        "\n",
        "# Dropdown widget for the years of experience input\n",
        "years_of_experience_options = Experience['Experience']\n",
        "years_of_experience_dropdown = widgets.Dropdown(options=years_of_experience_options, description='Years of Experience:', style={'description_width': 'initial'})\n",
        "\n",
        "# Scroll input widget for the years of experience percentage\n",
        "years_of_experience_percentage = widgets.FloatSlider(value=0, min=0, max=100, step=1, description='Percentage:', style={'description_width': 'initial'})\n",
        "\n",
        "# Radio button widget for government experience\n",
        "government_experience_radio = widgets.RadioButtons(options=['Yes', 'No'], description='Government Experience:', style={'description_width': 'initial'})\n",
        "\n",
        "# Scroll input widget for the government experience percentage\n",
        "government_experience_percentage = widgets.FloatSlider(value=0, min=0, max=100, step=1, description='Percentage:', style={'description_width': 'initial'})\n",
        "\n",
        "Job_textbox = widgets.Text(\n",
        "    description='Job Tiltle:',\n",
        "    style={'description_width': 'initial'}\n",
        ")\n",
        "\n",
        "# Scroll input widget for the government experience percentage\n",
        "Job_percentage = widgets.FloatSlider(value=0, min=0, max=100, step=1, description='Percentage:', style={'description_width': 'initial'})\n",
        "\n",
        "Manage_textbox = widgets.Text(\n",
        "    description='Manage Skill:',\n",
        "    style={'description_width': 'initial'}\n",
        ")\n",
        "\n",
        "# Scroll input widget for the government experience percentage\n",
        "Manage_percentage = widgets.FloatSlider(value=0, min=0, max=100, step=1, description='Percentage:', style={'description_width': 'initial'})\n",
        "\n",
        "\n",
        "Tech_textbox = widgets.Text(\n",
        "    description='Tech Skill:',\n",
        "    style={'description_width': 'initial'}\n",
        ")\n",
        "\n",
        "# Scroll input widget for the government experience percentage\n",
        "Tech_percentage = widgets.FloatSlider(value=0, min=0, max=100, step=1, description='Percentage:', style={'description_width': 'initial'})\n",
        "\n",
        "# Button to add the data to the DataFrame\n",
        "add_button = widgets.Button(description='Calculate Score', button_style='success', tooltip='Click to add the data')\n",
        "\n",
        "# Output widget to display messages\n",
        "output = widgets.Output()\n",
        "\n",
        "# Function to handle button click event\n",
        "def add_to_dataframe(b):\n",
        "    global df  # Declare df as a global variable\n",
        "\n",
        "    with output:\n",
        "        # Clear previous outputs\n",
        "        output.clear_output()\n",
        "\n",
        "        # Add data to the DataFrame\n",
        "        new_data = pd.DataFrame([\n",
        "            {'Criteria': 'Degree', 'Value': degree_dropdown.value, 'Score': degree_percentage.value},\n",
        "            # {'Criteria': 'Main Specialty', 'Value': main_specialty_dropdown.value, 'Score': main_specialty_percentage.value},\n",
        "            {'Criteria': 'skills', 'Value': main_skills_dropdown.value, 'Score': main_skills_percentage.value},\n",
        "            {'Criteria': 'certificate', 'Value': main_certificate_dropdown.value, 'Score': main_certificate_percentage.value},\n",
        "            {'Criteria': 'Experience', 'Value': years_of_experience_dropdown.value, 'Score': years_of_experience_percentage.value},\n",
        "            {'Criteria': 'Government Experience', 'Value': government_experience_radio.value, 'Score': government_experience_percentage.value},\n",
        "            {'Criteria': 'Job Title', 'Value': Job_textbox.value, 'Score': Job_percentage.value},\n",
        "            {'Criteria': 'Tech skill', 'Value': Tech_textbox.value, 'Score': Manage_percentage.value},\n",
        "            {'Criteria': 'Manage Skill', 'Value': Manage_textbox.value, 'Score': Tech_percentage.value}\n",
        "\n",
        "        ])\n",
        "\n",
        "        # Append data to the DataFrame\n",
        "        df = df.append(new_data, ignore_index=True)\n",
        "        print('Data added successfully!')\n",
        "\n",
        "# Assign the click event handler to the button\n",
        "add_button.on_click(add_to_dataframe)\n",
        "\n",
        "# Create a box layout for the input widgets\n",
        "# input_box = Box(children=[\n",
        "#     degree_dropdown, degree_percentage,\n",
        "#     main_specialty_dropdown, main_specialty_percentage,\n",
        "#     main_skills_dropdown, main_skills_percentage,\n",
        "#     main_certificate_dropdown, main_certificate_percentage,\n",
        "#     years_of_experience_dropdown, years_of_experience_percentage,\n",
        "#     government_experience_radio, government_experience_percentage,\n",
        "#     add_button\n",
        "# ], layout=Layout(\n",
        "#     display='flex',\n",
        "#     flex_flow='column',\n",
        "#     align_items='stretch',\n",
        "#     width='50%'\n",
        "# ))\n",
        "# Arrange widgets in a vertical box\n",
        "input_widgets = widgets.VBox([\n",
        "    widgets.HBox([degree_dropdown, degree_percentage]),\n",
        "    # widgets.HBox([main_specialty_dropdown, main_specialty_percentage]),\n",
        "    widgets.HBox([main_skills_dropdown, main_skills_percentage]),\n",
        "    widgets.HBox([main_certificate_dropdown, main_certificate_percentage]),\n",
        "    widgets.HBox([years_of_experience_dropdown, years_of_experience_percentage]),\n",
        "    widgets.HBox([government_experience_radio, government_experience_percentage]),\n",
        "    widgets.HBox([Job_textbox, Job_percentage]),\n",
        "    widgets.HBox([Manage_textbox, Manage_percentage]),\n",
        "    widgets.HBox([Tech_textbox, Tech_percentage])\n",
        "])\n",
        "\n",
        "# Display the input widgets and output widget\n",
        "display(input_widgets, add_button, output)"
      ]
    },
    {
      "cell_type": "code",
      "execution_count": null,
      "metadata": {
        "id": "NnfKwSibEvWF"
      },
      "outputs": [],
      "source": [
        "candidates = Original# @title\n"
      ]
    },
    {
      "cell_type": "code",
      "execution_count": null,
      "metadata": {
        "colab": {
          "base_uri": "https://localhost:8080/",
          "height": 300
        },
        "id": "0Hh1SFh-6lL3",
        "outputId": "e11d55cb-f94b-4878-f6ad-dbf6b954e50a"
      },
      "outputs": [],
      "source": [
        "df"
      ]
    },
    {
      "cell_type": "code",
      "execution_count": null,
      "metadata": {
        "colab": {
          "base_uri": "https://localhost:8080/"
        },
        "id": "7QkH2j309h4L",
        "outputId": "e7e27868-fbc1-4cda-9eff-28920e29f647"
      },
      "outputs": [],
      "source": [
        "df[df['Criteria']=='Tech skill']['Value']\n"
      ]
    },
    {
      "cell_type": "code",
      "execution_count": null,
      "metadata": {
        "id": "fhEOdiFighRD"
      },
      "outputs": [],
      "source": [
        "# df['Score'] = df['Score'].astype(int)\n"
      ]
    },
    {
      "cell_type": "code",
      "execution_count": null,
      "metadata": {
        "colab": {
          "base_uri": "https://localhost:8080/"
        },
        "id": "_eoQGzGLKFoI",
        "outputId": "5c558b7d-b84f-4d5a-cf4e-1eea16cbcc4f"
      },
      "outputs": [],
      "source": [
        "# # @title\n",
        "# Degree =  assign_ranks(Degree, 'Degree',df['Value'][0])\n",
        "# skills =  assign_ranks_1(skills, 'skills',df['Value'][1])\n",
        "# certificates =  assign_ranks_1(certificates, 'certificates',df['Value'][2])\n",
        "# Experience =  assign_ranks(Experience, 'Experience',df['Value'][3])\n",
        "\n"
      ]
    },
    {
      "cell_type": "code",
      "execution_count": null,
      "metadata": {
        "id": "bMqrQUV9lekk"
      },
      "outputs": [],
      "source": [
        "# # @title\n",
        "# Degree"
      ]
    },
    {
      "cell_type": "code",
      "execution_count": null,
      "metadata": {
        "id": "gy5pmXOJlfRx"
      },
      "outputs": [],
      "source": [
        "# # @title\n",
        "# skills"
      ]
    },
    {
      "cell_type": "code",
      "execution_count": null,
      "metadata": {
        "id": "ge6hsrw-lkPO"
      },
      "outputs": [],
      "source": [
        "# # @title\n",
        "# certificates"
      ]
    },
    {
      "cell_type": "code",
      "execution_count": null,
      "metadata": {
        "id": "6r3tzEemll3r"
      },
      "outputs": [],
      "source": [
        "# # @title\n",
        "# Experience\n"
      ]
    },
    {
      "cell_type": "code",
      "execution_count": null,
      "metadata": {
        "id": "6Fd7FoB-UHyT"
      },
      "outputs": [],
      "source": [
        "# # @title\n",
        "# import pandas as pd\n",
        "\n",
        "# # Specify the path to the Excel file\n",
        "# excel_file_path = 'output2.xlsx'\n",
        "\n",
        "# # Read the Excel file into a DataFrame\n",
        "# candidates = pd.read_excel(excel_file_path)\n",
        "\n",
        "# # Print the DataFrame\n",
        "# candidates.columns"
      ]
    },
    {
      "cell_type": "code",
      "execution_count": null,
      "metadata": {
        "colab": {
          "base_uri": "https://localhost:8080/",
          "height": 205
        },
        "id": "RElgeaD3zRBp",
        "outputId": "fec63999-837d-4d3b-d7fc-92f6a51253a3"
      },
      "outputs": [],
      "source": [
        "candidates"
      ]
    },
    {
      "cell_type": "code",
      "execution_count": null,
      "metadata": {
        "colab": {
          "base_uri": "https://localhost:8080/",
          "height": 237
        },
        "id": "CTMqqOmK1WKL",
        "outputId": "6dcc92f3-65ff-411f-bb47-a7cbae11febf"
      },
      "outputs": [],
      "source": [
        "df"
      ]
    },
    {
      "cell_type": "code",
      "execution_count": null,
      "metadata": {
        "id": "HEsRc8_81Q2F"
      },
      "outputs": [],
      "source": []
    },
    {
      "cell_type": "code",
      "execution_count": null,
      "metadata": {
        "id": "121AWZFXL1Bq"
      },
      "outputs": [],
      "source": [
        "# # @title\n",
        "# mult = df['Score'][2]\n",
        "# candidates.columns\n",
        "# # Merge the candidate DataFrame with the rank DataFrame based on the degree\n",
        "# candidates = pd.merge(candidates, Degree, left_on='Education Level', right_on='Degree', how='left')\n",
        "# candidates = candidates.rename(columns={'Score': 'Degree_Rank'})\n",
        "# candidates = candidates.drop('Rank', axis=1)\n",
        "# candidates['Degree_Rank'] = candidates['Degree_Rank'].astype(int) * mult\n",
        "\n"
      ]
    },
    {
      "cell_type": "code",
      "execution_count": null,
      "metadata": {
        "id": "kUhPJXm1avvC"
      },
      "outputs": [],
      "source": [
        "# candidates['Public_Rank'] = candidates['EX_Gov'].apply(lambda x: 1 if x == 'Yes' else 0)\n"
      ]
    },
    {
      "cell_type": "code",
      "execution_count": null,
      "metadata": {
        "colab": {
          "base_uri": "https://localhost:8080/",
          "height": 234
        },
        "id": "KkyYCKKEZNdt",
        "outputId": "845299fe-23f5-4468-e1d8-a5c50a903e0a"
      },
      "outputs": [],
      "source": [
        "# @title\n",
        "candidates"
      ]
    },
    {
      "cell_type": "code",
      "execution_count": null,
      "metadata": {
        "colab": {
          "base_uri": "https://localhost:8080/",
          "height": 300
        },
        "id": "ZIUPCNz9_1rT",
        "outputId": "70067a0d-4b02-4f7f-e559-5cca32d5918a"
      },
      "outputs": [],
      "source": [
        "df"
      ]
    },
    {
      "cell_type": "code",
      "execution_count": null,
      "metadata": {
        "colab": {
          "base_uri": "https://localhost:8080/"
        },
        "id": "mmhqIb8H-WrG",
        "outputId": "bd69ae32-2282-41f3-dfb3-00eb1fb5126c"
      },
      "outputs": [],
      "source": [
        "content = candidates['Text']\n",
        "file = candidates['Filename']\n",
        "temp = df[df['Criteria']=='Manage Skill']['Value'].reset_index()\n",
        "question = temp['Value'][0]\n",
        "prompt_template=f'''The following content is a resume of a candidate\n",
        "\n",
        "resume: {candidates['Text']}\n",
        "answer the question: Does the candidate have skills related to: {question}\n",
        "Answer:\n",
        "'''\n",
        "response = lcpp_llm(\n",
        "prompt=prompt_template,\n",
        "max_tokens=256,\n",
        "temperature=0.05,\n",
        "top_p=0.95,\n",
        "repeat_penalty=1.2,\n",
        "top_k=50,\n",
        "stop = ['USER:'], # Dynamic stopping when such token is detected.\n",
        "echo=True # return the prompt\n",
        ")\n",
        "print(response[\"choices\"][0][\"text\"].split(\"Answer:\")[1].strip())"
      ]
    },
    {
      "cell_type": "code",
      "execution_count": null,
      "metadata": {
        "colab": {
          "base_uri": "https://localhost:8080/"
        },
        "id": "IRCORYfDDtQO",
        "outputId": "13d800ae-b71d-4ac5-b266-1995c4886f91"
      },
      "outputs": [],
      "source": [
        "print(candidates['Text'])"
      ]
    },
    {
      "cell_type": "code",
      "execution_count": null,
      "metadata": {
        "colab": {
          "base_uri": "https://localhost:8080/",
          "height": 3349
        },
        "id": "Hzx4OSTOCww3",
        "outputId": "05f07fa0-f247-486a-b5bd-82d21e597487"
      },
      "outputs": [],
      "source": [
        "candidates"
      ]
    },
    {
      "cell_type": "code",
      "execution_count": null,
      "metadata": {
        "colab": {
          "base_uri": "https://localhost:8080/"
        },
        "id": "oKEq4iN0DCM5",
        "outputId": "8752fa26-e6ed-4fcb-8907-17bc47324c67"
      },
      "outputs": [],
      "source": [
        "content.str.len()"
      ]
    },
    {
      "cell_type": "code",
      "execution_count": null,
      "metadata": {
        "id": "MrSZBPxT-xnV"
      },
      "outputs": [],
      "source": [
        "x = df[df['Criteria']=='Tech skill']['Value'].reset_index()"
      ]
    },
    {
      "cell_type": "code",
      "execution_count": null,
      "metadata": {
        "colab": {
          "base_uri": "https://localhost:8080/",
          "height": 36
        },
        "id": "AePu0fUa_RWd",
        "outputId": "ac3f89aa-1e19-4147-8407-51e40d2c17d3"
      },
      "outputs": [],
      "source": [
        "x['Value'][0]"
      ]
    },
    {
      "cell_type": "code",
      "execution_count": null,
      "metadata": {
        "colab": {
          "base_uri": "https://localhost:8080/",
          "height": 146
        },
        "id": "Ye5r-U99ARBB",
        "outputId": "6e66f780-3ce8-4a20-9365-eb4a69545898"
      },
      "outputs": [],
      "source": [
        "print(original)"
      ]
    },
    {
      "cell_type": "code",
      "execution_count": null,
      "metadata": {
        "id": "JHJdijTJ7q6Q"
      },
      "outputs": [],
      "source": [
        "def evaluate(candidates , df):\n",
        "    df['Score'] = df['Score'].astype(int)\n",
        "    # @title\n",
        "    Degree =  assign_ranks(Degree, 'Degree',df['Value'][0])\n",
        "    skills =  assign_ranks_1(skills, 'skills',df['Value'][1])\n",
        "    certificates =  assign_ranks_1(certificates, 'certificates',df['Value'][2])\n",
        "    Experience =  assign_ranks(Experience, 'Experience',df['Value'][3])\n",
        "    # ------- Education level\n",
        "    mult = df['Score'][2]\n",
        "    candidates = pd.merge(candidates, Degree, left_on='Education Level', right_on='Degree', how='left')\n",
        "    candidates = candidates.rename(columns={'Score': 'Degree_Rank'})\n",
        "    candidates = candidates.drop('Rank', axis=1)\n",
        "    candidates['Degree_Rank'] = candidates['Degree_Rank'].astype(int) * mult\n",
        "    #------ Public (Yes or No)\n",
        "    candidates['Public_Rank'] = candidates['EX_Gov'].apply(lambda x: 1 if x == 'Yes' else 0)\n",
        "\n",
        "    # @title\n",
        "    # -------- Total years of experience\n",
        "    mult = df['Score'][1]\n",
        "    candidates.columns\n",
        "    # Merge the candidate DataFrame with the rank DataFrame based on the degree\n",
        "    candidates = pd.merge(candidates, Experience, left_on='Experience', right_on='Experience', how='left')\n",
        "    candidates = candidates.rename(columns={'Rank': 'Experience_Rank'})\n",
        "    candidates['Experience_Rank'] = candidates['Experience_Rank'].astype(int) * mult\n",
        "\n",
        "\n",
        "    content = candidates['Text']\n",
        "    file = candidates['Filename']\n",
        "    temp = df[df['Criteria']=='Manage Skill']['Value'].reset_index()\n",
        "    question = temp['Value'][0]\n",
        "    prompt_template=f'''The following content is a resume of a candidate\n",
        "\n",
        "    resume: {candidates['Text']}\n",
        "    answer the question: Does the candidate have skills related to: {question}\n",
        "    Answer:\n",
        "    '''\n",
        "    resp\n",
        "    response = lcpp_llm(\n",
        "    prompt=prompt_template,\n",
        "    max_tokens=256,\n",
        "    temperature=0.05,\n",
        "    top_p=0.95,\n",
        "    repeat_penalty=1.2,\n",
        "    top_k=50,\n",
        "    stop = ['USER:'], # Dynamic stopping when such token is detected.\n",
        "    echo=True # return the prompt\n",
        "    )\n",
        "    print(response[\"choices\"][0][\"text\"].split(\"Answer:\")[1].strip())\n",
        "    df.loc[df['Filename'] == file, x['title']] = response[\"choices\"][0][\"text\"].split(\"Answer:\")[1].strip()\n",
        "\n",
        "\n"
      ]
    },
    {
      "cell_type": "code",
      "execution_count": null,
      "metadata": {
        "colab": {
          "base_uri": "https://localhost:8080/",
          "height": 182
        },
        "id": "ybFVvKdmE0Ii",
        "outputId": "f70c0e76-c48d-41f9-e86a-1f80e2263a1c"
      },
      "outputs": [],
      "source": [
        "# Loop through the dataframe and call the process_row function for each row\n",
        "for index, row in candidates.iterrows():\n",
        "    process_row(row, df)"
      ]
    },
    {
      "cell_type": "code",
      "execution_count": null,
      "metadata": {
        "colab": {
          "base_uri": "https://localhost:8080/",
          "height": 237
        },
        "id": "-CFAmxSx2S3-",
        "outputId": "8bd251de-30e9-4d19-9e5f-b14f6a05bb8e"
      },
      "outputs": [],
      "source": [
        "\n",
        "def ask_question(question){\n",
        "      prompt_template=f'''The following content is a resume of a candidate\n",
        "\n",
        "      resume: {content}\n",
        "      answer the question: {question}\n",
        "      Answer:\n",
        "      '''\n",
        "      response = lcpp_llm(\n",
        "      prompt=prompt_template,\n",
        "      max_tokens=256,\n",
        "      temperature=0.05,\n",
        "      top_p=0.95,\n",
        "      repeat_penalty=1.2,\n",
        "      top_k=50,\n",
        "      stop = ['USER:'], # Dynamic stopping when such token is detected.\n",
        "      echo=True # return the prompt\n",
        "      )\n",
        "}"
      ]
    },
    {
      "cell_type": "code",
      "execution_count": null,
      "metadata": {
        "colab": {
          "base_uri": "https://localhost:8080/",
          "height": 237
        },
        "id": "0R8V7WVe2ivl",
        "outputId": "cc1fe2f1-543c-4da4-9112-3377f30dd9ae"
      },
      "outputs": [],
      "source": [
        "df"
      ]
    },
    {
      "cell_type": "code",
      "execution_count": null,
      "metadata": {
        "colab": {
          "base_uri": "https://localhost:8080/",
          "height": 332
        },
        "id": "NSzOOZ5PU_hR",
        "outputId": "a4184d9a-5a8a-4059-8537-591fcefc659b"
      },
      "outputs": [],
      "source": [
        "# @title\n",
        "#-----------------------------------\n",
        "# df['Score'] = df['Score'].astype(int)\n",
        "mult = df['Score'][1]\n",
        "candidates.columns\n",
        "# Merge the candidate DataFrame with the rank DataFrame based on the degree\n",
        "candidates = pd.merge(candidates, skills, left_on='Skills', right_on='skills', how='left')\n",
        "candidates = candidates.rename(columns={'Rank': 'skills_Rank'})\n",
        "candidates = candidates.drop('Rank', axis=1)\n",
        "candidates['skills_Rank'] = candidates['skills_Rank'].astype(int) * mult"
      ]
    },
    {
      "cell_type": "code",
      "execution_count": null,
      "metadata": {
        "id": "o5Wh6k8TWeVA"
      },
      "outputs": [],
      "source": [
        "# @title\n",
        "#-----------------------------------\n",
        "# df['Score'] = df['Score'].astype(int)\n",
        "mult = df['Score'][3]\n",
        "candidates.columns\n",
        "# Merge the candidate DataFrame with the rank DataFrame based on the degree\n",
        "candidates = pd.merge(candidates, certificates, left_on='Certification', right_on='certificates', how='left')\n",
        "candidates = candidates.rename(columns={'Rank': 'certificates_Rank'})\n",
        "candidates['certificates_Rank'] = candidates['certificates_Rank'].astype(int) * mult"
      ]
    },
    {
      "cell_type": "code",
      "execution_count": null,
      "metadata": {
        "colab": {
          "base_uri": "https://localhost:8080/",
          "height": 234
        },
        "id": "N61oV2cciFsm",
        "outputId": "3c4e4426-4401-4bc9-df0c-6514489f8379"
      },
      "outputs": [],
      "source": [
        "candidates"
      ]
    },
    {
      "cell_type": "code",
      "execution_count": null,
      "metadata": {
        "colab": {
          "base_uri": "https://localhost:8080/",
          "height": 237
        },
        "id": "EtJxsuV28e3x",
        "outputId": "20b1ecb0-acc9-4e00-930d-2a02433ac7c7"
      },
      "outputs": [],
      "source": [
        "Experience"
      ]
    },
    {
      "cell_type": "code",
      "execution_count": null,
      "metadata": {
        "colab": {
          "base_uri": "https://localhost:8080/",
          "height": 332
        },
        "id": "f5TYn_-bVzyY",
        "outputId": "0783cb87-0eac-4346-a1fd-5d38c40f9078"
      },
      "outputs": [],
      "source": [
        "# @title\n",
        "#-----------------------------------\n",
        "# df['Score'] = df['Score'].astype(int)\n",
        "mult = df['Score'][1]\n",
        "candidates.columns\n",
        "# Merge the candidate DataFrame with the rank DataFrame based on the degree\n",
        "candidates = pd.merge(candidates, Experience, left_on='Experience', right_on='Experience', how='left')\n",
        "candidates = candidates.rename(columns={'Rank': 'Experience_Rank'})\n",
        "candidates['Experience_Rank'] = candidates['Experience_Rank'].astype(int) * mult"
      ]
    },
    {
      "cell_type": "code",
      "execution_count": null,
      "metadata": {
        "id": "ndFOsnCaMl9i"
      },
      "outputs": [],
      "source": [
        "# @title\n",
        "candidates['Score'] = candidates['Public_Rank'] + candidates['Public_Rank'] + candidates['skills_Rank']+ candidates['certificates_Rank']+ candidates['Experience_Rank']\n",
        "max = candidates['Score'].max()\n",
        "candidates['Score'] = (candidates['Score'] / max)*100"
      ]
    },
    {
      "cell_type": "code",
      "execution_count": null,
      "metadata": {
        "id": "jAjyYgGbSLDW"
      },
      "outputs": [],
      "source": [
        "# @title\n",
        "candidates['Score']"
      ]
    },
    {
      "cell_type": "code",
      "execution_count": null,
      "metadata": {
        "id": "c80fbb50"
      },
      "outputs": [],
      "source": [
        "# @title\n",
        "import pandas as pd\n",
        "import numpy as np\n",
        "\n",
        "# Create a sample DataFrame\n",
        "df = candidates\n",
        "\n",
        "# Define a color map\n",
        "cmap = 'coolwarm'  # You can choose any valid colormap name\n",
        "\n",
        "# Apply color formatting to the 'Score' column\n",
        "df_styled = df.style.background_gradient(cmap=cmap, subset=['Score'])\n",
        "\n",
        "# Display the styled DataFrame\n",
        "df_styled"
      ]
    },
    {
      "cell_type": "code",
      "execution_count": null,
      "metadata": {
        "id": "BszmBf6lpljf"
      },
      "outputs": [],
      "source": [
        "# @title\n",
        "candidates.columns"
      ]
    },
    {
      "cell_type": "code",
      "execution_count": null,
      "metadata": {
        "id": "8ab0a97e"
      },
      "outputs": [],
      "source": [
        "# @title\n",
        "import pandas as pd\n",
        "import plotly.graph_objects as go\n",
        "\n",
        "\n",
        "\n",
        "df = candidates[[  'Email', 'Education Level',\n",
        "       'Major', 'Technical Experience Years', 'Managerial Experience Years',\n",
        "       'Total Experience Years', 'Public Sector Experience', 'Date', 'Gender',\n",
        "       'File Name', 'Citizenship', 'Score'\n",
        "       ]]\n",
        "# Convert the DataFrame to a Plotly figure\n",
        "fig = go.Figure(data=go.Table(\n",
        "    header=dict(values=list(df.columns),\n",
        "                fill_color='paleturquoise',\n",
        "                align='left'),\n",
        "    cells=dict(values=[df[col] for col in df.columns],\n",
        "               fill_color='lavender',\n",
        "               align='left')\n",
        "))\n",
        "\n",
        "# Set the layout properties of the table\n",
        "fig.update_layout(\n",
        "    title='DataFrame',\n",
        "    width=1200,\n",
        "    height=300,\n",
        "    margin=dict(l=20, r=20, t=40, b=20)\n",
        ")\n",
        "\n",
        "# Display the Plotly figure\n",
        "fig.show()"
      ]
    },
    {
      "cell_type": "code",
      "execution_count": null,
      "metadata": {
        "id": "f692c4bc"
      },
      "outputs": [],
      "source": [
        "# @title\n",
        "import plotly.graph_objects as go\n",
        "import pandas as pd\n",
        "\n",
        "# Example dataframe\n",
        "data = candidates[[ 'Email',  'Score'\n",
        "       ]]\n",
        "df = pd.DataFrame(data)\n",
        "\n",
        "# Normalizing the 'Score' column for color scale (0-1)\n",
        "max_score = df['Score'].max()\n",
        "min_score = df['Score'].min()\n",
        "df['Score_normalized'] = (df['Score'] - min_score) / (max_score - min_score)\n",
        "\n",
        "# Define color scale - you can adjust the colors and thresholds\n",
        "color_scale = [[0, 'green'], [0.5, 'yellow'], [1, 'red']]\n",
        "\n",
        "# Create the table\n",
        "fig = go.Figure(data=[go.Table(\n",
        "    header=dict(values=list(df.columns[:-1]),  # Exclude the normalized score from the table display\n",
        "                fill_color='paleturquoise',\n",
        "                align='left'),\n",
        "    cells=dict(values=[df.Email, df.Score],\n",
        "               fill_color=[['white']*len(df),  # Normal background color for non-Score columns\n",
        "                           [f'rgba({int(255 * c)}, {int(255 * (1-c))}, 0, 0.6)' for c in df['Score_normalized']]],  # Color for Score column\n",
        "               align='left'))\n",
        "])\n",
        "\n",
        "fig.show()\n"
      ]
    },
    {
      "cell_type": "code",
      "execution_count": null,
      "metadata": {
        "id": "xVnAKuf8tfxQ"
      },
      "outputs": [],
      "source": [
        "# @title\n"
      ]
    },
    {
      "cell_type": "code",
      "execution_count": null,
      "metadata": {
        "id": "4g1ryFOCUsK3"
      },
      "outputs": [],
      "source": []
    }
  ],
  "metadata": {
    "accelerator": "GPU",
    "colab": {
      "gpuType": "T4",
      "provenance": []
    },
    "kernelspec": {
      "display_name": "Python 3",
      "name": "python3"
    },
    "language_info": {
      "codemirror_mode": {
        "name": "ipython",
        "version": 3
      },
      "file_extension": ".py",
      "mimetype": "text/x-python",
      "name": "python",
      "nbconvert_exporter": "python",
      "pygments_lexer": "ipython3",
      "version": "3.11.8"
    },
    "widgets": {
      "application/vnd.jupyter.widget-state+json": {
        "014bc9882ce54a6b9f63739f04cf1ff8": {
          "model_module": "@jupyter-widgets/base",
          "model_module_version": "1.2.0",
          "model_name": "LayoutModel",
          "state": {
            "_model_module": "@jupyter-widgets/base",
            "_model_module_version": "1.2.0",
            "_model_name": "LayoutModel",
            "_view_count": null,
            "_view_module": "@jupyter-widgets/base",
            "_view_module_version": "1.2.0",
            "_view_name": "LayoutView",
            "align_content": null,
            "align_items": null,
            "align_self": null,
            "border": null,
            "bottom": null,
            "display": null,
            "flex": null,
            "flex_flow": null,
            "grid_area": null,
            "grid_auto_columns": null,
            "grid_auto_flow": null,
            "grid_auto_rows": null,
            "grid_column": null,
            "grid_gap": null,
            "grid_row": null,
            "grid_template_areas": null,
            "grid_template_columns": null,
            "grid_template_rows": null,
            "height": null,
            "justify_content": null,
            "justify_items": null,
            "left": null,
            "margin": null,
            "max_height": null,
            "max_width": null,
            "min_height": null,
            "min_width": null,
            "object_fit": null,
            "object_position": null,
            "order": null,
            "overflow": null,
            "overflow_x": null,
            "overflow_y": null,
            "padding": null,
            "right": null,
            "top": null,
            "visibility": null,
            "width": null
          }
        },
        "01f006c4843a4c13912a9b91553a1a8b": {
          "model_module": "@jupyter-widgets/controls",
          "model_module_version": "1.5.0",
          "model_name": "FloatProgressModel",
          "state": {
            "_dom_classes": [],
            "_model_module": "@jupyter-widgets/controls",
            "_model_module_version": "1.5.0",
            "_model_name": "FloatProgressModel",
            "_view_count": null,
            "_view_module": "@jupyter-widgets/controls",
            "_view_module_version": "1.5.0",
            "_view_name": "ProgressView",
            "bar_style": "success",
            "description": "",
            "description_tooltip": null,
            "layout": "IPY_MODEL_936cb5b47ca0400cb3894cbb9714add7",
            "max": 9763701888,
            "min": 0,
            "orientation": "horizontal",
            "style": "IPY_MODEL_34f71c18efae40689851723bbebd0b04",
            "value": 9763701888
          }
        },
        "03151cdea5ce4be0ae683b388b210c7b": {
          "model_module": "@jupyter-widgets/controls",
          "model_module_version": "1.5.0",
          "model_name": "TextModel",
          "state": {
            "_dom_classes": [],
            "_model_module": "@jupyter-widgets/controls",
            "_model_module_version": "1.5.0",
            "_model_name": "TextModel",
            "_view_count": null,
            "_view_module": "@jupyter-widgets/controls",
            "_view_module_version": "1.5.0",
            "_view_name": "TextView",
            "continuous_update": true,
            "description": "Manage Skill:",
            "description_tooltip": null,
            "disabled": false,
            "layout": "IPY_MODEL_315f515979fb4877ae6b40006c2a8057",
            "placeholder": "​",
            "style": "IPY_MODEL_620672916ded4270a78206344b9dbf3c",
            "value": "Programming"
          }
        },
        "0421c9a183dd40f49f5c6a3cd4d4ba83": {
          "model_module": "@jupyter-widgets/controls",
          "model_module_version": "1.5.0",
          "model_name": "DescriptionStyleModel",
          "state": {
            "_model_module": "@jupyter-widgets/controls",
            "_model_module_version": "1.5.0",
            "_model_name": "DescriptionStyleModel",
            "_view_count": null,
            "_view_module": "@jupyter-widgets/base",
            "_view_module_version": "1.2.0",
            "_view_name": "StyleView",
            "description_width": "initial"
          }
        },
        "0d811f1b225d4dec966b2e5fd0991827": {
          "model_module": "@jupyter-widgets/base",
          "model_module_version": "1.2.0",
          "model_name": "LayoutModel",
          "state": {
            "_model_module": "@jupyter-widgets/base",
            "_model_module_version": "1.2.0",
            "_model_name": "LayoutModel",
            "_view_count": null,
            "_view_module": "@jupyter-widgets/base",
            "_view_module_version": "1.2.0",
            "_view_name": "LayoutView",
            "align_content": null,
            "align_items": null,
            "align_self": null,
            "border": null,
            "bottom": null,
            "display": null,
            "flex": null,
            "flex_flow": null,
            "grid_area": null,
            "grid_auto_columns": null,
            "grid_auto_flow": null,
            "grid_auto_rows": null,
            "grid_column": null,
            "grid_gap": null,
            "grid_row": null,
            "grid_template_areas": null,
            "grid_template_columns": null,
            "grid_template_rows": null,
            "height": null,
            "justify_content": null,
            "justify_items": null,
            "left": null,
            "margin": null,
            "max_height": null,
            "max_width": null,
            "min_height": null,
            "min_width": null,
            "object_fit": null,
            "object_position": null,
            "order": null,
            "overflow": null,
            "overflow_x": null,
            "overflow_y": null,
            "padding": null,
            "right": null,
            "top": null,
            "visibility": null,
            "width": null
          }
        },
        "13c0e49feeaa414781e16b82107c689a": {
          "model_module": "@jupyter-widgets/controls",
          "model_module_version": "1.5.0",
          "model_name": "HBoxModel",
          "state": {
            "_dom_classes": [],
            "_model_module": "@jupyter-widgets/controls",
            "_model_module_version": "1.5.0",
            "_model_name": "HBoxModel",
            "_view_count": null,
            "_view_module": "@jupyter-widgets/controls",
            "_view_module_version": "1.5.0",
            "_view_name": "HBoxView",
            "box_style": "",
            "children": [
              "IPY_MODEL_d201d39401a04bebaac3c6ce299e235f",
              "IPY_MODEL_7d2f81e74e97458aa534a80965006c64"
            ],
            "layout": "IPY_MODEL_80ed12f778624be09bba1adc37c1ff12"
          }
        },
        "157481fb2c534dfd95fd83a0e2663a5d": {
          "model_module": "@jupyter-widgets/base",
          "model_module_version": "1.2.0",
          "model_name": "LayoutModel",
          "state": {
            "_model_module": "@jupyter-widgets/base",
            "_model_module_version": "1.2.0",
            "_model_name": "LayoutModel",
            "_view_count": null,
            "_view_module": "@jupyter-widgets/base",
            "_view_module_version": "1.2.0",
            "_view_name": "LayoutView",
            "align_content": null,
            "align_items": null,
            "align_self": null,
            "border": null,
            "bottom": null,
            "display": null,
            "flex": null,
            "flex_flow": null,
            "grid_area": null,
            "grid_auto_columns": null,
            "grid_auto_flow": null,
            "grid_auto_rows": null,
            "grid_column": null,
            "grid_gap": null,
            "grid_row": null,
            "grid_template_areas": null,
            "grid_template_columns": null,
            "grid_template_rows": null,
            "height": null,
            "justify_content": null,
            "justify_items": null,
            "left": null,
            "margin": null,
            "max_height": null,
            "max_width": null,
            "min_height": null,
            "min_width": null,
            "object_fit": null,
            "object_position": null,
            "order": null,
            "overflow": null,
            "overflow_x": null,
            "overflow_y": null,
            "padding": null,
            "right": null,
            "top": null,
            "visibility": null,
            "width": null
          }
        },
        "1bc9a287ec714f53891681b1868904b6": {
          "model_module": "@jupyter-widgets/controls",
          "model_module_version": "1.5.0",
          "model_name": "DescriptionStyleModel",
          "state": {
            "_model_module": "@jupyter-widgets/controls",
            "_model_module_version": "1.5.0",
            "_model_name": "DescriptionStyleModel",
            "_view_count": null,
            "_view_module": "@jupyter-widgets/base",
            "_view_module_version": "1.2.0",
            "_view_name": "StyleView",
            "description_width": ""
          }
        },
        "1d1896b296cc40b4b8cf01a2abb64aff": {
          "model_module": "@jupyter-widgets/base",
          "model_module_version": "1.2.0",
          "model_name": "LayoutModel",
          "state": {
            "_model_module": "@jupyter-widgets/base",
            "_model_module_version": "1.2.0",
            "_model_name": "LayoutModel",
            "_view_count": null,
            "_view_module": "@jupyter-widgets/base",
            "_view_module_version": "1.2.0",
            "_view_name": "LayoutView",
            "align_content": null,
            "align_items": null,
            "align_self": null,
            "border": null,
            "bottom": null,
            "display": null,
            "flex": null,
            "flex_flow": null,
            "grid_area": null,
            "grid_auto_columns": null,
            "grid_auto_flow": null,
            "grid_auto_rows": null,
            "grid_column": null,
            "grid_gap": null,
            "grid_row": null,
            "grid_template_areas": null,
            "grid_template_columns": null,
            "grid_template_rows": null,
            "height": null,
            "justify_content": null,
            "justify_items": null,
            "left": null,
            "margin": null,
            "max_height": null,
            "max_width": null,
            "min_height": null,
            "min_width": null,
            "object_fit": null,
            "object_position": null,
            "order": null,
            "overflow": null,
            "overflow_x": null,
            "overflow_y": null,
            "padding": null,
            "right": null,
            "top": null,
            "visibility": null,
            "width": null
          }
        },
        "1e46648a485e47a282c85ad86aad7855": {
          "model_module": "@jupyter-widgets/controls",
          "model_module_version": "1.5.0",
          "model_name": "HBoxModel",
          "state": {
            "_dom_classes": [],
            "_model_module": "@jupyter-widgets/controls",
            "_model_module_version": "1.5.0",
            "_model_name": "HBoxModel",
            "_view_count": null,
            "_view_module": "@jupyter-widgets/controls",
            "_view_module_version": "1.5.0",
            "_view_name": "HBoxView",
            "box_style": "",
            "children": [
              "IPY_MODEL_d943a664a6664f66b4d33383c4df9f80",
              "IPY_MODEL_5a17ef2dd121479f8842bcc754c48b20"
            ],
            "layout": "IPY_MODEL_dd78eee8cd944a168b4e34d3aacb102d"
          }
        },
        "200937d3554c4efb9bd67d61d4062cc8": {
          "model_module": "@jupyter-widgets/base",
          "model_module_version": "1.2.0",
          "model_name": "LayoutModel",
          "state": {
            "_model_module": "@jupyter-widgets/base",
            "_model_module_version": "1.2.0",
            "_model_name": "LayoutModel",
            "_view_count": null,
            "_view_module": "@jupyter-widgets/base",
            "_view_module_version": "1.2.0",
            "_view_name": "LayoutView",
            "align_content": null,
            "align_items": null,
            "align_self": null,
            "border": null,
            "bottom": null,
            "display": null,
            "flex": null,
            "flex_flow": null,
            "grid_area": null,
            "grid_auto_columns": null,
            "grid_auto_flow": null,
            "grid_auto_rows": null,
            "grid_column": null,
            "grid_gap": null,
            "grid_row": null,
            "grid_template_areas": null,
            "grid_template_columns": null,
            "grid_template_rows": null,
            "height": null,
            "justify_content": null,
            "justify_items": null,
            "left": null,
            "margin": null,
            "max_height": null,
            "max_width": null,
            "min_height": null,
            "min_width": null,
            "object_fit": null,
            "object_position": null,
            "order": null,
            "overflow": null,
            "overflow_x": null,
            "overflow_y": null,
            "padding": null,
            "right": null,
            "top": null,
            "visibility": null,
            "width": null
          }
        },
        "2384a83d5f3a4df5a3abe722b4f3b347": {
          "model_module": "@jupyter-widgets/controls",
          "model_module_version": "1.5.0",
          "model_name": "SliderStyleModel",
          "state": {
            "_model_module": "@jupyter-widgets/controls",
            "_model_module_version": "1.5.0",
            "_model_name": "SliderStyleModel",
            "_view_count": null,
            "_view_module": "@jupyter-widgets/base",
            "_view_module_version": "1.2.0",
            "_view_name": "StyleView",
            "description_width": "initial",
            "handle_color": null
          }
        },
        "28834390994d45a59cbd3e82ac87d921": {
          "model_module": "@jupyter-widgets/controls",
          "model_module_version": "1.5.0",
          "model_name": "DescriptionStyleModel",
          "state": {
            "_model_module": "@jupyter-widgets/controls",
            "_model_module_version": "1.5.0",
            "_model_name": "DescriptionStyleModel",
            "_view_count": null,
            "_view_module": "@jupyter-widgets/base",
            "_view_module_version": "1.2.0",
            "_view_name": "StyleView",
            "description_width": "initial"
          }
        },
        "2eb285ad05604f54973d3c81c6641553": {
          "model_module": "@jupyter-widgets/controls",
          "model_module_version": "1.5.0",
          "model_name": "SliderStyleModel",
          "state": {
            "_model_module": "@jupyter-widgets/controls",
            "_model_module_version": "1.5.0",
            "_model_name": "SliderStyleModel",
            "_view_count": null,
            "_view_module": "@jupyter-widgets/base",
            "_view_module_version": "1.2.0",
            "_view_name": "StyleView",
            "description_width": "initial",
            "handle_color": null
          }
        },
        "315f515979fb4877ae6b40006c2a8057": {
          "model_module": "@jupyter-widgets/base",
          "model_module_version": "1.2.0",
          "model_name": "LayoutModel",
          "state": {
            "_model_module": "@jupyter-widgets/base",
            "_model_module_version": "1.2.0",
            "_model_name": "LayoutModel",
            "_view_count": null,
            "_view_module": "@jupyter-widgets/base",
            "_view_module_version": "1.2.0",
            "_view_name": "LayoutView",
            "align_content": null,
            "align_items": null,
            "align_self": null,
            "border": null,
            "bottom": null,
            "display": null,
            "flex": null,
            "flex_flow": null,
            "grid_area": null,
            "grid_auto_columns": null,
            "grid_auto_flow": null,
            "grid_auto_rows": null,
            "grid_column": null,
            "grid_gap": null,
            "grid_row": null,
            "grid_template_areas": null,
            "grid_template_columns": null,
            "grid_template_rows": null,
            "height": null,
            "justify_content": null,
            "justify_items": null,
            "left": null,
            "margin": null,
            "max_height": null,
            "max_width": null,
            "min_height": null,
            "min_width": null,
            "object_fit": null,
            "object_position": null,
            "order": null,
            "overflow": null,
            "overflow_x": null,
            "overflow_y": null,
            "padding": null,
            "right": null,
            "top": null,
            "visibility": null,
            "width": null
          }
        },
        "32a8e96ee29a4a29bb15c92463171296": {
          "model_module": "@jupyter-widgets/controls",
          "model_module_version": "1.5.0",
          "model_name": "HTMLModel",
          "state": {
            "_dom_classes": [],
            "_model_module": "@jupyter-widgets/controls",
            "_model_module_version": "1.5.0",
            "_model_name": "HTMLModel",
            "_view_count": null,
            "_view_module": "@jupyter-widgets/controls",
            "_view_module_version": "1.5.0",
            "_view_name": "HTMLView",
            "description": "",
            "description_tooltip": null,
            "layout": "IPY_MODEL_7e1b8bc7e94a450f89e1df353fdd8906",
            "placeholder": "​",
            "style": "IPY_MODEL_884fdce01af1489fba98b851bf96075a",
            "value": " 9.76G/9.76G [01:28&lt;00:00, 145MB/s]"
          }
        },
        "346d5e1856c04603a38b4c1199a58ad2": {
          "model_module": "@jupyter-widgets/controls",
          "model_module_version": "1.5.0",
          "model_name": "SliderStyleModel",
          "state": {
            "_model_module": "@jupyter-widgets/controls",
            "_model_module_version": "1.5.0",
            "_model_name": "SliderStyleModel",
            "_view_count": null,
            "_view_module": "@jupyter-widgets/base",
            "_view_module_version": "1.2.0",
            "_view_name": "StyleView",
            "description_width": "initial",
            "handle_color": null
          }
        },
        "34f71c18efae40689851723bbebd0b04": {
          "model_module": "@jupyter-widgets/controls",
          "model_module_version": "1.5.0",
          "model_name": "ProgressStyleModel",
          "state": {
            "_model_module": "@jupyter-widgets/controls",
            "_model_module_version": "1.5.0",
            "_model_name": "ProgressStyleModel",
            "_view_count": null,
            "_view_module": "@jupyter-widgets/base",
            "_view_module_version": "1.2.0",
            "_view_name": "StyleView",
            "bar_color": null,
            "description_width": ""
          }
        },
        "3657fed729914ee3bf2623fb80377649": {
          "model_module": "@jupyter-widgets/controls",
          "model_module_version": "1.5.0",
          "model_name": "DescriptionStyleModel",
          "state": {
            "_model_module": "@jupyter-widgets/controls",
            "_model_module_version": "1.5.0",
            "_model_name": "DescriptionStyleModel",
            "_view_count": null,
            "_view_module": "@jupyter-widgets/base",
            "_view_module_version": "1.2.0",
            "_view_name": "StyleView",
            "description_width": "initial"
          }
        },
        "425798be20ab40b9851cc5370791cdfe": {
          "model_module": "@jupyter-widgets/base",
          "model_module_version": "1.2.0",
          "model_name": "LayoutModel",
          "state": {
            "_model_module": "@jupyter-widgets/base",
            "_model_module_version": "1.2.0",
            "_model_name": "LayoutModel",
            "_view_count": null,
            "_view_module": "@jupyter-widgets/base",
            "_view_module_version": "1.2.0",
            "_view_name": "LayoutView",
            "align_content": null,
            "align_items": null,
            "align_self": null,
            "border": null,
            "bottom": null,
            "display": null,
            "flex": null,
            "flex_flow": null,
            "grid_area": null,
            "grid_auto_columns": null,
            "grid_auto_flow": null,
            "grid_auto_rows": null,
            "grid_column": null,
            "grid_gap": null,
            "grid_row": null,
            "grid_template_areas": null,
            "grid_template_columns": null,
            "grid_template_rows": null,
            "height": null,
            "justify_content": null,
            "justify_items": null,
            "left": null,
            "margin": null,
            "max_height": null,
            "max_width": null,
            "min_height": null,
            "min_width": null,
            "object_fit": null,
            "object_position": null,
            "order": null,
            "overflow": null,
            "overflow_x": null,
            "overflow_y": null,
            "padding": null,
            "right": null,
            "top": null,
            "visibility": null,
            "width": null
          }
        },
        "46a05e81a4664e709fdc331137187be1": {
          "model_module": "@jupyter-widgets/base",
          "model_module_version": "1.2.0",
          "model_name": "LayoutModel",
          "state": {
            "_model_module": "@jupyter-widgets/base",
            "_model_module_version": "1.2.0",
            "_model_name": "LayoutModel",
            "_view_count": null,
            "_view_module": "@jupyter-widgets/base",
            "_view_module_version": "1.2.0",
            "_view_name": "LayoutView",
            "align_content": null,
            "align_items": null,
            "align_self": null,
            "border": null,
            "bottom": null,
            "display": null,
            "flex": null,
            "flex_flow": null,
            "grid_area": null,
            "grid_auto_columns": null,
            "grid_auto_flow": null,
            "grid_auto_rows": null,
            "grid_column": null,
            "grid_gap": null,
            "grid_row": null,
            "grid_template_areas": null,
            "grid_template_columns": null,
            "grid_template_rows": null,
            "height": null,
            "justify_content": null,
            "justify_items": null,
            "left": null,
            "margin": null,
            "max_height": null,
            "max_width": null,
            "min_height": null,
            "min_width": null,
            "object_fit": null,
            "object_position": null,
            "order": null,
            "overflow": null,
            "overflow_x": null,
            "overflow_y": null,
            "padding": null,
            "right": null,
            "top": null,
            "visibility": null,
            "width": null
          }
        },
        "47bee42ec5194c529cb84ca463a0a06f": {
          "model_module": "@jupyter-widgets/base",
          "model_module_version": "1.2.0",
          "model_name": "LayoutModel",
          "state": {
            "_model_module": "@jupyter-widgets/base",
            "_model_module_version": "1.2.0",
            "_model_name": "LayoutModel",
            "_view_count": null,
            "_view_module": "@jupyter-widgets/base",
            "_view_module_version": "1.2.0",
            "_view_name": "LayoutView",
            "align_content": null,
            "align_items": null,
            "align_self": null,
            "border": null,
            "bottom": null,
            "display": null,
            "flex": null,
            "flex_flow": null,
            "grid_area": null,
            "grid_auto_columns": null,
            "grid_auto_flow": null,
            "grid_auto_rows": null,
            "grid_column": null,
            "grid_gap": null,
            "grid_row": null,
            "grid_template_areas": null,
            "grid_template_columns": null,
            "grid_template_rows": null,
            "height": null,
            "justify_content": null,
            "justify_items": null,
            "left": null,
            "margin": null,
            "max_height": null,
            "max_width": null,
            "min_height": null,
            "min_width": null,
            "object_fit": null,
            "object_position": null,
            "order": null,
            "overflow": null,
            "overflow_x": null,
            "overflow_y": null,
            "padding": null,
            "right": null,
            "top": null,
            "visibility": null,
            "width": null
          }
        },
        "497d2893ec854eba8dba95b3ae7f90a8": {
          "model_module": "@jupyter-widgets/controls",
          "model_module_version": "1.5.0",
          "model_name": "DropdownModel",
          "state": {
            "_dom_classes": [],
            "_model_module": "@jupyter-widgets/controls",
            "_model_module_version": "1.5.0",
            "_model_name": "DropdownModel",
            "_options_labels": [
              "Certified Information Systems Security Professional (CISSP)",
              "Microsoft Certified",
              "AWS Certified Solutions Architect",
              "Cisco Certified Network Associate (CCNA) / Cisco Certified Network Professional (CCNP)",
              "Certified ScrumMaster (CSM)",
              "Certified Public Accountant (CPA)",
              "Chartered Financial Analyst (CFA)",
              "Certified Management Accountant (CMA)",
              "Certified Internal Auditor (CIA)",
              "Registered Nurse (RN)",
              "Board Certified Behavior Analyst (BCBA)",
              "Certified Clinical Medical Assistant (CCMA)",
              "Certified Registered Nurse Anesthetist (CRNA)",
              "Professional Engineer (PE)",
              "Project Management Professional (PMP)",
              "LEED Accredited Professional (LEED AP)",
              "Google Analytics IQ Certification",
              "HubSpot Content Marketing Certification",
              "Certified Digital Marketing Professional (CDMP) by Digital Marketing Institute",
              "Certified Supply Chain Professional (CSCP)",
              "Certified in Production and Inventory Management (CPIM)",
              "OSHA Certification",
              "Certified Construction Manager (CCM)"
            ],
            "_view_count": null,
            "_view_module": "@jupyter-widgets/controls",
            "_view_module_version": "1.5.0",
            "_view_name": "DropdownView",
            "description": "Main Certificate:",
            "description_tooltip": null,
            "disabled": false,
            "index": 0,
            "layout": "IPY_MODEL_b48961c70c424fbe9bf027f19241f958",
            "style": "IPY_MODEL_28834390994d45a59cbd3e82ac87d921"
          }
        },
        "4d14075c4348405996061929f73ad979": {
          "model_module": "@jupyter-widgets/base",
          "model_module_version": "1.2.0",
          "model_name": "LayoutModel",
          "state": {
            "_model_module": "@jupyter-widgets/base",
            "_model_module_version": "1.2.0",
            "_model_name": "LayoutModel",
            "_view_count": null,
            "_view_module": "@jupyter-widgets/base",
            "_view_module_version": "1.2.0",
            "_view_name": "LayoutView",
            "align_content": null,
            "align_items": null,
            "align_self": null,
            "border": null,
            "bottom": null,
            "display": null,
            "flex": null,
            "flex_flow": null,
            "grid_area": null,
            "grid_auto_columns": null,
            "grid_auto_flow": null,
            "grid_auto_rows": null,
            "grid_column": null,
            "grid_gap": null,
            "grid_row": null,
            "grid_template_areas": null,
            "grid_template_columns": null,
            "grid_template_rows": null,
            "height": null,
            "justify_content": null,
            "justify_items": null,
            "left": null,
            "margin": null,
            "max_height": null,
            "max_width": null,
            "min_height": null,
            "min_width": null,
            "object_fit": null,
            "object_position": null,
            "order": null,
            "overflow": null,
            "overflow_x": null,
            "overflow_y": null,
            "padding": null,
            "right": null,
            "top": null,
            "visibility": null,
            "width": null
          }
        },
        "509c4e4dc3ac419eb01d1491b7c983dd": {
          "model_module": "@jupyter-widgets/controls",
          "model_module_version": "1.5.0",
          "model_name": "DescriptionStyleModel",
          "state": {
            "_model_module": "@jupyter-widgets/controls",
            "_model_module_version": "1.5.0",
            "_model_name": "DescriptionStyleModel",
            "_view_count": null,
            "_view_module": "@jupyter-widgets/base",
            "_view_module_version": "1.2.0",
            "_view_name": "StyleView",
            "description_width": "initial"
          }
        },
        "5273568d3abb4390b6d404146317b4cb": {
          "model_module": "@jupyter-widgets/controls",
          "model_module_version": "1.5.0",
          "model_name": "ButtonStyleModel",
          "state": {
            "_model_module": "@jupyter-widgets/controls",
            "_model_module_version": "1.5.0",
            "_model_name": "ButtonStyleModel",
            "_view_count": null,
            "_view_module": "@jupyter-widgets/base",
            "_view_module_version": "1.2.0",
            "_view_name": "StyleView",
            "button_color": null,
            "font_weight": ""
          }
        },
        "57bfccde71cf441ead7482c850731260": {
          "model_module": "@jupyter-widgets/controls",
          "model_module_version": "1.5.0",
          "model_name": "HBoxModel",
          "state": {
            "_dom_classes": [],
            "_model_module": "@jupyter-widgets/controls",
            "_model_module_version": "1.5.0",
            "_model_name": "HBoxModel",
            "_view_count": null,
            "_view_module": "@jupyter-widgets/controls",
            "_view_module_version": "1.5.0",
            "_view_name": "HBoxView",
            "box_style": "",
            "children": [
              "IPY_MODEL_eaafbd6fb1df42a9b835736c4cd93b9d",
              "IPY_MODEL_8c33fbd7c32e4df1a53be5ab32d30b31"
            ],
            "layout": "IPY_MODEL_46a05e81a4664e709fdc331137187be1"
          }
        },
        "5a17ef2dd121479f8842bcc754c48b20": {
          "model_module": "@jupyter-widgets/controls",
          "model_module_version": "1.5.0",
          "model_name": "FloatSliderModel",
          "state": {
            "_dom_classes": [],
            "_model_module": "@jupyter-widgets/controls",
            "_model_module_version": "1.5.0",
            "_model_name": "FloatSliderModel",
            "_view_count": null,
            "_view_module": "@jupyter-widgets/controls",
            "_view_module_version": "1.5.0",
            "_view_name": "FloatSliderView",
            "continuous_update": true,
            "description": "Percentage:",
            "description_tooltip": null,
            "disabled": false,
            "layout": "IPY_MODEL_157481fb2c534dfd95fd83a0e2663a5d",
            "max": 100,
            "min": 0,
            "orientation": "horizontal",
            "readout": true,
            "readout_format": ".2f",
            "step": 1,
            "style": "IPY_MODEL_2384a83d5f3a4df5a3abe722b4f3b347",
            "value": 34
          }
        },
        "5cc90a6e7e7a4ed6b19950a9e5db737b": {
          "model_module": "@jupyter-widgets/base",
          "model_module_version": "1.2.0",
          "model_name": "LayoutModel",
          "state": {
            "_model_module": "@jupyter-widgets/base",
            "_model_module_version": "1.2.0",
            "_model_name": "LayoutModel",
            "_view_count": null,
            "_view_module": "@jupyter-widgets/base",
            "_view_module_version": "1.2.0",
            "_view_name": "LayoutView",
            "align_content": null,
            "align_items": null,
            "align_self": null,
            "border": null,
            "bottom": null,
            "display": null,
            "flex": null,
            "flex_flow": null,
            "grid_area": null,
            "grid_auto_columns": null,
            "grid_auto_flow": null,
            "grid_auto_rows": null,
            "grid_column": null,
            "grid_gap": null,
            "grid_row": null,
            "grid_template_areas": null,
            "grid_template_columns": null,
            "grid_template_rows": null,
            "height": null,
            "justify_content": null,
            "justify_items": null,
            "left": null,
            "margin": null,
            "max_height": null,
            "max_width": null,
            "min_height": null,
            "min_width": null,
            "object_fit": null,
            "object_position": null,
            "order": null,
            "overflow": null,
            "overflow_x": null,
            "overflow_y": null,
            "padding": null,
            "right": null,
            "top": null,
            "visibility": null,
            "width": null
          }
        },
        "620672916ded4270a78206344b9dbf3c": {
          "model_module": "@jupyter-widgets/controls",
          "model_module_version": "1.5.0",
          "model_name": "DescriptionStyleModel",
          "state": {
            "_model_module": "@jupyter-widgets/controls",
            "_model_module_version": "1.5.0",
            "_model_name": "DescriptionStyleModel",
            "_view_count": null,
            "_view_module": "@jupyter-widgets/base",
            "_view_module_version": "1.2.0",
            "_view_name": "StyleView",
            "description_width": "initial"
          }
        },
        "6dfca70adb3148df93060dff1af780de": {
          "model_module": "@jupyter-widgets/controls",
          "model_module_version": "1.5.0",
          "model_name": "HBoxModel",
          "state": {
            "_dom_classes": [],
            "_model_module": "@jupyter-widgets/controls",
            "_model_module_version": "1.5.0",
            "_model_name": "HBoxModel",
            "_view_count": null,
            "_view_module": "@jupyter-widgets/controls",
            "_view_module_version": "1.5.0",
            "_view_name": "HBoxView",
            "box_style": "",
            "children": [
              "IPY_MODEL_89236f5ab784439ea02b336ec137c5cd",
              "IPY_MODEL_b79db56ad9334b6997e41f1ea41b0d04"
            ],
            "layout": "IPY_MODEL_d44cb11b9e9647ea8599649446c860fb"
          }
        },
        "799c93b1f3ea464db68a2c7d0623b4d4": {
          "model_module": "@jupyter-widgets/base",
          "model_module_version": "1.2.0",
          "model_name": "LayoutModel",
          "state": {
            "_model_module": "@jupyter-widgets/base",
            "_model_module_version": "1.2.0",
            "_model_name": "LayoutModel",
            "_view_count": null,
            "_view_module": "@jupyter-widgets/base",
            "_view_module_version": "1.2.0",
            "_view_name": "LayoutView",
            "align_content": null,
            "align_items": null,
            "align_self": null,
            "border": null,
            "bottom": null,
            "display": null,
            "flex": null,
            "flex_flow": null,
            "grid_area": null,
            "grid_auto_columns": null,
            "grid_auto_flow": null,
            "grid_auto_rows": null,
            "grid_column": null,
            "grid_gap": null,
            "grid_row": null,
            "grid_template_areas": null,
            "grid_template_columns": null,
            "grid_template_rows": null,
            "height": null,
            "justify_content": null,
            "justify_items": null,
            "left": null,
            "margin": null,
            "max_height": null,
            "max_width": null,
            "min_height": null,
            "min_width": null,
            "object_fit": null,
            "object_position": null,
            "order": null,
            "overflow": null,
            "overflow_x": null,
            "overflow_y": null,
            "padding": null,
            "right": null,
            "top": null,
            "visibility": null,
            "width": null
          }
        },
        "7ac27776eae4455db61ee185672a4fb8": {
          "model_module": "@jupyter-widgets/output",
          "model_module_version": "1.0.0",
          "model_name": "OutputModel",
          "state": {
            "_dom_classes": [],
            "_model_module": "@jupyter-widgets/output",
            "_model_module_version": "1.0.0",
            "_model_name": "OutputModel",
            "_view_count": null,
            "_view_module": "@jupyter-widgets/output",
            "_view_module_version": "1.0.0",
            "_view_name": "OutputView",
            "layout": "IPY_MODEL_4d14075c4348405996061929f73ad979",
            "msg_id": "",
            "outputs": [
              {
                "name": "stdout",
                "output_type": "stream",
                "text": [
                  "Data added successfully!\n"
                ]
              },
              {
                "name": "stderr",
                "output_type": "stream",
                "text": [
                  "<ipython-input-231-42cb4c8a1bf3>:107: FutureWarning: The frame.append method is deprecated and will be removed from pandas in a future version. Use pandas.concat instead.\n",
                  "  df = df.append(new_data, ignore_index=True)\n"
                ]
              }
            ]
          }
        },
        "7d2f81e74e97458aa534a80965006c64": {
          "model_module": "@jupyter-widgets/controls",
          "model_module_version": "1.5.0",
          "model_name": "FloatSliderModel",
          "state": {
            "_dom_classes": [],
            "_model_module": "@jupyter-widgets/controls",
            "_model_module_version": "1.5.0",
            "_model_name": "FloatSliderModel",
            "_view_count": null,
            "_view_module": "@jupyter-widgets/controls",
            "_view_module_version": "1.5.0",
            "_view_name": "FloatSliderView",
            "continuous_update": true,
            "description": "Percentage:",
            "description_tooltip": null,
            "disabled": false,
            "layout": "IPY_MODEL_9faeff6db3ae448ab2b80e090fa620b5",
            "max": 100,
            "min": 0,
            "orientation": "horizontal",
            "readout": true,
            "readout_format": ".2f",
            "step": 1,
            "style": "IPY_MODEL_e87ce7e644d64d75bc4971a6a894ab52",
            "value": 55
          }
        },
        "7e1b8bc7e94a450f89e1df353fdd8906": {
          "model_module": "@jupyter-widgets/base",
          "model_module_version": "1.2.0",
          "model_name": "LayoutModel",
          "state": {
            "_model_module": "@jupyter-widgets/base",
            "_model_module_version": "1.2.0",
            "_model_name": "LayoutModel",
            "_view_count": null,
            "_view_module": "@jupyter-widgets/base",
            "_view_module_version": "1.2.0",
            "_view_name": "LayoutView",
            "align_content": null,
            "align_items": null,
            "align_self": null,
            "border": null,
            "bottom": null,
            "display": null,
            "flex": null,
            "flex_flow": null,
            "grid_area": null,
            "grid_auto_columns": null,
            "grid_auto_flow": null,
            "grid_auto_rows": null,
            "grid_column": null,
            "grid_gap": null,
            "grid_row": null,
            "grid_template_areas": null,
            "grid_template_columns": null,
            "grid_template_rows": null,
            "height": null,
            "justify_content": null,
            "justify_items": null,
            "left": null,
            "margin": null,
            "max_height": null,
            "max_width": null,
            "min_height": null,
            "min_width": null,
            "object_fit": null,
            "object_position": null,
            "order": null,
            "overflow": null,
            "overflow_x": null,
            "overflow_y": null,
            "padding": null,
            "right": null,
            "top": null,
            "visibility": null,
            "width": null
          }
        },
        "80ed12f778624be09bba1adc37c1ff12": {
          "model_module": "@jupyter-widgets/base",
          "model_module_version": "1.2.0",
          "model_name": "LayoutModel",
          "state": {
            "_model_module": "@jupyter-widgets/base",
            "_model_module_version": "1.2.0",
            "_model_name": "LayoutModel",
            "_view_count": null,
            "_view_module": "@jupyter-widgets/base",
            "_view_module_version": "1.2.0",
            "_view_name": "LayoutView",
            "align_content": null,
            "align_items": null,
            "align_self": null,
            "border": null,
            "bottom": null,
            "display": null,
            "flex": null,
            "flex_flow": null,
            "grid_area": null,
            "grid_auto_columns": null,
            "grid_auto_flow": null,
            "grid_auto_rows": null,
            "grid_column": null,
            "grid_gap": null,
            "grid_row": null,
            "grid_template_areas": null,
            "grid_template_columns": null,
            "grid_template_rows": null,
            "height": null,
            "justify_content": null,
            "justify_items": null,
            "left": null,
            "margin": null,
            "max_height": null,
            "max_width": null,
            "min_height": null,
            "min_width": null,
            "object_fit": null,
            "object_position": null,
            "order": null,
            "overflow": null,
            "overflow_x": null,
            "overflow_y": null,
            "padding": null,
            "right": null,
            "top": null,
            "visibility": null,
            "width": null
          }
        },
        "81764bb25b4b42a69b3cbc3fc01e4055": {
          "model_module": "@jupyter-widgets/controls",
          "model_module_version": "1.5.0",
          "model_name": "SliderStyleModel",
          "state": {
            "_model_module": "@jupyter-widgets/controls",
            "_model_module_version": "1.5.0",
            "_model_name": "SliderStyleModel",
            "_view_count": null,
            "_view_module": "@jupyter-widgets/base",
            "_view_module_version": "1.2.0",
            "_view_name": "StyleView",
            "description_width": "initial",
            "handle_color": null
          }
        },
        "81978e1246a249f2873976817fdf3c67": {
          "model_module": "@jupyter-widgets/controls",
          "model_module_version": "1.5.0",
          "model_name": "SliderStyleModel",
          "state": {
            "_model_module": "@jupyter-widgets/controls",
            "_model_module_version": "1.5.0",
            "_model_name": "SliderStyleModel",
            "_view_count": null,
            "_view_module": "@jupyter-widgets/base",
            "_view_module_version": "1.2.0",
            "_view_name": "StyleView",
            "description_width": "initial",
            "handle_color": null
          }
        },
        "81ae83a80f9f46fc95d3e88e9393fbed": {
          "model_module": "@jupyter-widgets/base",
          "model_module_version": "1.2.0",
          "model_name": "LayoutModel",
          "state": {
            "_model_module": "@jupyter-widgets/base",
            "_model_module_version": "1.2.0",
            "_model_name": "LayoutModel",
            "_view_count": null,
            "_view_module": "@jupyter-widgets/base",
            "_view_module_version": "1.2.0",
            "_view_name": "LayoutView",
            "align_content": null,
            "align_items": null,
            "align_self": null,
            "border": null,
            "bottom": null,
            "display": null,
            "flex": null,
            "flex_flow": null,
            "grid_area": null,
            "grid_auto_columns": null,
            "grid_auto_flow": null,
            "grid_auto_rows": null,
            "grid_column": null,
            "grid_gap": null,
            "grid_row": null,
            "grid_template_areas": null,
            "grid_template_columns": null,
            "grid_template_rows": null,
            "height": null,
            "justify_content": null,
            "justify_items": null,
            "left": null,
            "margin": null,
            "max_height": null,
            "max_width": null,
            "min_height": null,
            "min_width": null,
            "object_fit": null,
            "object_position": null,
            "order": null,
            "overflow": null,
            "overflow_x": null,
            "overflow_y": null,
            "padding": null,
            "right": null,
            "top": null,
            "visibility": null,
            "width": null
          }
        },
        "86a0d7aa1d8a4526911029007e96d78c": {
          "model_module": "@jupyter-widgets/controls",
          "model_module_version": "1.5.0",
          "model_name": "VBoxModel",
          "state": {
            "_dom_classes": [],
            "_model_module": "@jupyter-widgets/controls",
            "_model_module_version": "1.5.0",
            "_model_name": "VBoxModel",
            "_view_count": null,
            "_view_module": "@jupyter-widgets/controls",
            "_view_module_version": "1.5.0",
            "_view_name": "VBoxView",
            "box_style": "",
            "children": [
              "IPY_MODEL_1e46648a485e47a282c85ad86aad7855",
              "IPY_MODEL_a945321159c44a659ee831f9fcbe055e",
              "IPY_MODEL_e459433fa01a4e90bce1e0aca8569b73",
              "IPY_MODEL_13c0e49feeaa414781e16b82107c689a",
              "IPY_MODEL_57bfccde71cf441ead7482c850731260",
              "IPY_MODEL_6dfca70adb3148df93060dff1af780de",
              "IPY_MODEL_9690e650b0984398be1523757bfbaaef",
              "IPY_MODEL_c4a1c41905fe48f9b4e47091300f52ac"
            ],
            "layout": "IPY_MODEL_47bee42ec5194c529cb84ca463a0a06f"
          }
        },
        "884fdce01af1489fba98b851bf96075a": {
          "model_module": "@jupyter-widgets/controls",
          "model_module_version": "1.5.0",
          "model_name": "DescriptionStyleModel",
          "state": {
            "_model_module": "@jupyter-widgets/controls",
            "_model_module_version": "1.5.0",
            "_model_name": "DescriptionStyleModel",
            "_view_count": null,
            "_view_module": "@jupyter-widgets/base",
            "_view_module_version": "1.2.0",
            "_view_name": "StyleView",
            "description_width": ""
          }
        },
        "89236f5ab784439ea02b336ec137c5cd": {
          "model_module": "@jupyter-widgets/controls",
          "model_module_version": "1.5.0",
          "model_name": "TextModel",
          "state": {
            "_dom_classes": [],
            "_model_module": "@jupyter-widgets/controls",
            "_model_module_version": "1.5.0",
            "_model_name": "TextModel",
            "_view_count": null,
            "_view_module": "@jupyter-widgets/controls",
            "_view_module_version": "1.5.0",
            "_view_name": "TextView",
            "continuous_update": true,
            "description": "Job Tiltle:",
            "description_tooltip": null,
            "disabled": false,
            "layout": "IPY_MODEL_f270b2d96e394604b6a4674f7bb720d0",
            "placeholder": "​",
            "style": "IPY_MODEL_b12a693fa70348c1b315a379a4c56e85",
            "value": "Project manager"
          }
        },
        "8c33fbd7c32e4df1a53be5ab32d30b31": {
          "model_module": "@jupyter-widgets/controls",
          "model_module_version": "1.5.0",
          "model_name": "FloatSliderModel",
          "state": {
            "_dom_classes": [],
            "_model_module": "@jupyter-widgets/controls",
            "_model_module_version": "1.5.0",
            "_model_name": "FloatSliderModel",
            "_view_count": null,
            "_view_module": "@jupyter-widgets/controls",
            "_view_module_version": "1.5.0",
            "_view_name": "FloatSliderView",
            "continuous_update": true,
            "description": "Percentage:",
            "description_tooltip": null,
            "disabled": false,
            "layout": "IPY_MODEL_425798be20ab40b9851cc5370791cdfe",
            "max": 100,
            "min": 0,
            "orientation": "horizontal",
            "readout": true,
            "readout_format": ".2f",
            "step": 1,
            "style": "IPY_MODEL_81978e1246a249f2873976817fdf3c67",
            "value": 21
          }
        },
        "92474b6d615f4b6ba77374b3c5e74c78": {
          "model_module": "@jupyter-widgets/controls",
          "model_module_version": "1.5.0",
          "model_name": "ButtonModel",
          "state": {
            "_dom_classes": [],
            "_model_module": "@jupyter-widgets/controls",
            "_model_module_version": "1.5.0",
            "_model_name": "ButtonModel",
            "_view_count": null,
            "_view_module": "@jupyter-widgets/controls",
            "_view_module_version": "1.5.0",
            "_view_name": "ButtonView",
            "button_style": "success",
            "description": "Calculate Score",
            "disabled": false,
            "icon": "",
            "layout": "IPY_MODEL_f33e12468ead47bfa07804af1a457ad5",
            "style": "IPY_MODEL_5273568d3abb4390b6d404146317b4cb",
            "tooltip": "Click to add the data"
          }
        },
        "936cb5b47ca0400cb3894cbb9714add7": {
          "model_module": "@jupyter-widgets/base",
          "model_module_version": "1.2.0",
          "model_name": "LayoutModel",
          "state": {
            "_model_module": "@jupyter-widgets/base",
            "_model_module_version": "1.2.0",
            "_model_name": "LayoutModel",
            "_view_count": null,
            "_view_module": "@jupyter-widgets/base",
            "_view_module_version": "1.2.0",
            "_view_name": "LayoutView",
            "align_content": null,
            "align_items": null,
            "align_self": null,
            "border": null,
            "bottom": null,
            "display": null,
            "flex": null,
            "flex_flow": null,
            "grid_area": null,
            "grid_auto_columns": null,
            "grid_auto_flow": null,
            "grid_auto_rows": null,
            "grid_column": null,
            "grid_gap": null,
            "grid_row": null,
            "grid_template_areas": null,
            "grid_template_columns": null,
            "grid_template_rows": null,
            "height": null,
            "justify_content": null,
            "justify_items": null,
            "left": null,
            "margin": null,
            "max_height": null,
            "max_width": null,
            "min_height": null,
            "min_width": null,
            "object_fit": null,
            "object_position": null,
            "order": null,
            "overflow": null,
            "overflow_x": null,
            "overflow_y": null,
            "padding": null,
            "right": null,
            "top": null,
            "visibility": null,
            "width": null
          }
        },
        "9690e650b0984398be1523757bfbaaef": {
          "model_module": "@jupyter-widgets/controls",
          "model_module_version": "1.5.0",
          "model_name": "HBoxModel",
          "state": {
            "_dom_classes": [],
            "_model_module": "@jupyter-widgets/controls",
            "_model_module_version": "1.5.0",
            "_model_name": "HBoxModel",
            "_view_count": null,
            "_view_module": "@jupyter-widgets/controls",
            "_view_module_version": "1.5.0",
            "_view_name": "HBoxView",
            "box_style": "",
            "children": [
              "IPY_MODEL_03151cdea5ce4be0ae683b388b210c7b",
              "IPY_MODEL_e22363ed32af4a3980c2278c85ed508b"
            ],
            "layout": "IPY_MODEL_200937d3554c4efb9bd67d61d4062cc8"
          }
        },
        "9caf0b1f360b472cb6689ed367e353e4": {
          "model_module": "@jupyter-widgets/base",
          "model_module_version": "1.2.0",
          "model_name": "LayoutModel",
          "state": {
            "_model_module": "@jupyter-widgets/base",
            "_model_module_version": "1.2.0",
            "_model_name": "LayoutModel",
            "_view_count": null,
            "_view_module": "@jupyter-widgets/base",
            "_view_module_version": "1.2.0",
            "_view_name": "LayoutView",
            "align_content": null,
            "align_items": null,
            "align_self": null,
            "border": null,
            "bottom": null,
            "display": null,
            "flex": null,
            "flex_flow": null,
            "grid_area": null,
            "grid_auto_columns": null,
            "grid_auto_flow": null,
            "grid_auto_rows": null,
            "grid_column": null,
            "grid_gap": null,
            "grid_row": null,
            "grid_template_areas": null,
            "grid_template_columns": null,
            "grid_template_rows": null,
            "height": null,
            "justify_content": null,
            "justify_items": null,
            "left": null,
            "margin": null,
            "max_height": null,
            "max_width": null,
            "min_height": null,
            "min_width": null,
            "object_fit": null,
            "object_position": null,
            "order": null,
            "overflow": null,
            "overflow_x": null,
            "overflow_y": null,
            "padding": null,
            "right": null,
            "top": null,
            "visibility": null,
            "width": null
          }
        },
        "9de47ee7131d4bebad49221b09074552": {
          "model_module": "@jupyter-widgets/controls",
          "model_module_version": "1.5.0",
          "model_name": "SliderStyleModel",
          "state": {
            "_model_module": "@jupyter-widgets/controls",
            "_model_module_version": "1.5.0",
            "_model_name": "SliderStyleModel",
            "_view_count": null,
            "_view_module": "@jupyter-widgets/base",
            "_view_module_version": "1.2.0",
            "_view_name": "StyleView",
            "description_width": "initial",
            "handle_color": null
          }
        },
        "9e3e87fce2904a34baa28323d45153c5": {
          "model_module": "@jupyter-widgets/base",
          "model_module_version": "1.2.0",
          "model_name": "LayoutModel",
          "state": {
            "_model_module": "@jupyter-widgets/base",
            "_model_module_version": "1.2.0",
            "_model_name": "LayoutModel",
            "_view_count": null,
            "_view_module": "@jupyter-widgets/base",
            "_view_module_version": "1.2.0",
            "_view_name": "LayoutView",
            "align_content": null,
            "align_items": null,
            "align_self": null,
            "border": null,
            "bottom": null,
            "display": null,
            "flex": null,
            "flex_flow": null,
            "grid_area": null,
            "grid_auto_columns": null,
            "grid_auto_flow": null,
            "grid_auto_rows": null,
            "grid_column": null,
            "grid_gap": null,
            "grid_row": null,
            "grid_template_areas": null,
            "grid_template_columns": null,
            "grid_template_rows": null,
            "height": null,
            "justify_content": null,
            "justify_items": null,
            "left": null,
            "margin": null,
            "max_height": null,
            "max_width": null,
            "min_height": null,
            "min_width": null,
            "object_fit": null,
            "object_position": null,
            "order": null,
            "overflow": null,
            "overflow_x": null,
            "overflow_y": null,
            "padding": null,
            "right": null,
            "top": null,
            "visibility": null,
            "width": null
          }
        },
        "9faeff6db3ae448ab2b80e090fa620b5": {
          "model_module": "@jupyter-widgets/base",
          "model_module_version": "1.2.0",
          "model_name": "LayoutModel",
          "state": {
            "_model_module": "@jupyter-widgets/base",
            "_model_module_version": "1.2.0",
            "_model_name": "LayoutModel",
            "_view_count": null,
            "_view_module": "@jupyter-widgets/base",
            "_view_module_version": "1.2.0",
            "_view_name": "LayoutView",
            "align_content": null,
            "align_items": null,
            "align_self": null,
            "border": null,
            "bottom": null,
            "display": null,
            "flex": null,
            "flex_flow": null,
            "grid_area": null,
            "grid_auto_columns": null,
            "grid_auto_flow": null,
            "grid_auto_rows": null,
            "grid_column": null,
            "grid_gap": null,
            "grid_row": null,
            "grid_template_areas": null,
            "grid_template_columns": null,
            "grid_template_rows": null,
            "height": null,
            "justify_content": null,
            "justify_items": null,
            "left": null,
            "margin": null,
            "max_height": null,
            "max_width": null,
            "min_height": null,
            "min_width": null,
            "object_fit": null,
            "object_position": null,
            "order": null,
            "overflow": null,
            "overflow_x": null,
            "overflow_y": null,
            "padding": null,
            "right": null,
            "top": null,
            "visibility": null,
            "width": null
          }
        },
        "a945321159c44a659ee831f9fcbe055e": {
          "model_module": "@jupyter-widgets/controls",
          "model_module_version": "1.5.0",
          "model_name": "HBoxModel",
          "state": {
            "_dom_classes": [],
            "_model_module": "@jupyter-widgets/controls",
            "_model_module_version": "1.5.0",
            "_model_name": "HBoxModel",
            "_view_count": null,
            "_view_module": "@jupyter-widgets/controls",
            "_view_module_version": "1.5.0",
            "_view_name": "HBoxView",
            "box_style": "",
            "children": [
              "IPY_MODEL_bcc2d50466044141b6d639223586679d",
              "IPY_MODEL_fcd5c21e51f2479a98ea4ab588d285b8"
            ],
            "layout": "IPY_MODEL_cb486736e9fa41d7a27a20f321dac779"
          }
        },
        "b12a693fa70348c1b315a379a4c56e85": {
          "model_module": "@jupyter-widgets/controls",
          "model_module_version": "1.5.0",
          "model_name": "DescriptionStyleModel",
          "state": {
            "_model_module": "@jupyter-widgets/controls",
            "_model_module_version": "1.5.0",
            "_model_name": "DescriptionStyleModel",
            "_view_count": null,
            "_view_module": "@jupyter-widgets/base",
            "_view_module_version": "1.2.0",
            "_view_name": "StyleView",
            "description_width": "initial"
          }
        },
        "b48961c70c424fbe9bf027f19241f958": {
          "model_module": "@jupyter-widgets/base",
          "model_module_version": "1.2.0",
          "model_name": "LayoutModel",
          "state": {
            "_model_module": "@jupyter-widgets/base",
            "_model_module_version": "1.2.0",
            "_model_name": "LayoutModel",
            "_view_count": null,
            "_view_module": "@jupyter-widgets/base",
            "_view_module_version": "1.2.0",
            "_view_name": "LayoutView",
            "align_content": null,
            "align_items": null,
            "align_self": null,
            "border": null,
            "bottom": null,
            "display": null,
            "flex": null,
            "flex_flow": null,
            "grid_area": null,
            "grid_auto_columns": null,
            "grid_auto_flow": null,
            "grid_auto_rows": null,
            "grid_column": null,
            "grid_gap": null,
            "grid_row": null,
            "grid_template_areas": null,
            "grid_template_columns": null,
            "grid_template_rows": null,
            "height": null,
            "justify_content": null,
            "justify_items": null,
            "left": null,
            "margin": null,
            "max_height": null,
            "max_width": null,
            "min_height": null,
            "min_width": null,
            "object_fit": null,
            "object_position": null,
            "order": null,
            "overflow": null,
            "overflow_x": null,
            "overflow_y": null,
            "padding": null,
            "right": null,
            "top": null,
            "visibility": null,
            "width": null
          }
        },
        "b5ea3a22c16149148dd2bd9250a6e2ac": {
          "model_module": "@jupyter-widgets/controls",
          "model_module_version": "1.5.0",
          "model_name": "SliderStyleModel",
          "state": {
            "_model_module": "@jupyter-widgets/controls",
            "_model_module_version": "1.5.0",
            "_model_name": "SliderStyleModel",
            "_view_count": null,
            "_view_module": "@jupyter-widgets/base",
            "_view_module_version": "1.2.0",
            "_view_name": "StyleView",
            "description_width": "initial",
            "handle_color": null
          }
        },
        "b79db56ad9334b6997e41f1ea41b0d04": {
          "model_module": "@jupyter-widgets/controls",
          "model_module_version": "1.5.0",
          "model_name": "FloatSliderModel",
          "state": {
            "_dom_classes": [],
            "_model_module": "@jupyter-widgets/controls",
            "_model_module_version": "1.5.0",
            "_model_name": "FloatSliderModel",
            "_view_count": null,
            "_view_module": "@jupyter-widgets/controls",
            "_view_module_version": "1.5.0",
            "_view_name": "FloatSliderView",
            "continuous_update": true,
            "description": "Percentage:",
            "description_tooltip": null,
            "disabled": false,
            "layout": "IPY_MODEL_cc71031afc414998bb033bb6181a84c1",
            "max": 100,
            "min": 0,
            "orientation": "horizontal",
            "readout": true,
            "readout_format": ".2f",
            "step": 1,
            "style": "IPY_MODEL_346d5e1856c04603a38b4c1199a58ad2",
            "value": 59
          }
        },
        "bcc2d50466044141b6d639223586679d": {
          "model_module": "@jupyter-widgets/controls",
          "model_module_version": "1.5.0",
          "model_name": "DropdownModel",
          "state": {
            "_dom_classes": [],
            "_model_module": "@jupyter-widgets/controls",
            "_model_module_version": "1.5.0",
            "_model_name": "DropdownModel",
            "_options_labels": [
              "Programming Languages",
              "Database Management",
              "Cybersecurity",
              "Cloud Computing",
              "DevOps",
              "Financial Analysis",
              "Accounting Principles",
              "Budgeting and Forecasting",
              "Taxation",
              "Financial Modeling",
              "Patient Care",
              "Medical Knowledge",
              "Healthcare Technology",
              "Regulatory Compliance",
              "Technical Design",
              "Project Management",
              "Quality Control",
              "Problem-Solving",
              "Digital Marketing",
              "Market Research",
              "Brand Management",
              "Creative Design",
              "Operational Management",
              "Health and Safety",
              "Quality Assurance",
              "Construction Planning"
            ],
            "_view_count": null,
            "_view_module": "@jupyter-widgets/controls",
            "_view_module_version": "1.5.0",
            "_view_name": "DropdownView",
            "description": "Main Skills:",
            "description_tooltip": null,
            "disabled": false,
            "index": 0,
            "layout": "IPY_MODEL_ceca06bbb46047ea8cb821ca219da289",
            "style": "IPY_MODEL_f7809a69a2a2436da91da1808e5bfbe1"
          }
        },
        "c4a1c41905fe48f9b4e47091300f52ac": {
          "model_module": "@jupyter-widgets/controls",
          "model_module_version": "1.5.0",
          "model_name": "HBoxModel",
          "state": {
            "_dom_classes": [],
            "_model_module": "@jupyter-widgets/controls",
            "_model_module_version": "1.5.0",
            "_model_name": "HBoxModel",
            "_view_count": null,
            "_view_module": "@jupyter-widgets/controls",
            "_view_module_version": "1.5.0",
            "_view_name": "HBoxView",
            "box_style": "",
            "children": [
              "IPY_MODEL_c70833be447140fa9e651c55814666c4",
              "IPY_MODEL_f503542af537497dae7e0edb67aa68e2"
            ],
            "layout": "IPY_MODEL_e8fc34f1735c4a34a5413ba6696a13a9"
          }
        },
        "c70833be447140fa9e651c55814666c4": {
          "model_module": "@jupyter-widgets/controls",
          "model_module_version": "1.5.0",
          "model_name": "TextModel",
          "state": {
            "_dom_classes": [],
            "_model_module": "@jupyter-widgets/controls",
            "_model_module_version": "1.5.0",
            "_model_name": "TextModel",
            "_view_count": null,
            "_view_module": "@jupyter-widgets/controls",
            "_view_module_version": "1.5.0",
            "_view_name": "TextView",
            "continuous_update": true,
            "description": "Tech Skill:",
            "description_tooltip": null,
            "disabled": false,
            "layout": "IPY_MODEL_5cc90a6e7e7a4ed6b19950a9e5db737b",
            "placeholder": "​",
            "style": "IPY_MODEL_3657fed729914ee3bf2623fb80377649",
            "value": "Data science"
          }
        },
        "c7dd3050633d4f64a3eaffcf027d4ad8": {
          "model_module": "@jupyter-widgets/base",
          "model_module_version": "1.2.0",
          "model_name": "LayoutModel",
          "state": {
            "_model_module": "@jupyter-widgets/base",
            "_model_module_version": "1.2.0",
            "_model_name": "LayoutModel",
            "_view_count": null,
            "_view_module": "@jupyter-widgets/base",
            "_view_module_version": "1.2.0",
            "_view_name": "LayoutView",
            "align_content": null,
            "align_items": null,
            "align_self": null,
            "border": null,
            "bottom": null,
            "display": null,
            "flex": null,
            "flex_flow": null,
            "grid_area": null,
            "grid_auto_columns": null,
            "grid_auto_flow": null,
            "grid_auto_rows": null,
            "grid_column": null,
            "grid_gap": null,
            "grid_row": null,
            "grid_template_areas": null,
            "grid_template_columns": null,
            "grid_template_rows": null,
            "height": null,
            "justify_content": null,
            "justify_items": null,
            "left": null,
            "margin": null,
            "max_height": null,
            "max_width": null,
            "min_height": null,
            "min_width": null,
            "object_fit": null,
            "object_position": null,
            "order": null,
            "overflow": null,
            "overflow_x": null,
            "overflow_y": null,
            "padding": null,
            "right": null,
            "top": null,
            "visibility": null,
            "width": null
          }
        },
        "c901b4b7f97e4f61af67d8f995ed7d49": {
          "model_module": "@jupyter-widgets/base",
          "model_module_version": "1.2.0",
          "model_name": "LayoutModel",
          "state": {
            "_model_module": "@jupyter-widgets/base",
            "_model_module_version": "1.2.0",
            "_model_name": "LayoutModel",
            "_view_count": null,
            "_view_module": "@jupyter-widgets/base",
            "_view_module_version": "1.2.0",
            "_view_name": "LayoutView",
            "align_content": null,
            "align_items": null,
            "align_self": null,
            "border": null,
            "bottom": null,
            "display": null,
            "flex": null,
            "flex_flow": null,
            "grid_area": null,
            "grid_auto_columns": null,
            "grid_auto_flow": null,
            "grid_auto_rows": null,
            "grid_column": null,
            "grid_gap": null,
            "grid_row": null,
            "grid_template_areas": null,
            "grid_template_columns": null,
            "grid_template_rows": null,
            "height": null,
            "justify_content": null,
            "justify_items": null,
            "left": null,
            "margin": null,
            "max_height": null,
            "max_width": null,
            "min_height": null,
            "min_width": null,
            "object_fit": null,
            "object_position": null,
            "order": null,
            "overflow": null,
            "overflow_x": null,
            "overflow_y": null,
            "padding": null,
            "right": null,
            "top": null,
            "visibility": null,
            "width": null
          }
        },
        "cb486736e9fa41d7a27a20f321dac779": {
          "model_module": "@jupyter-widgets/base",
          "model_module_version": "1.2.0",
          "model_name": "LayoutModel",
          "state": {
            "_model_module": "@jupyter-widgets/base",
            "_model_module_version": "1.2.0",
            "_model_name": "LayoutModel",
            "_view_count": null,
            "_view_module": "@jupyter-widgets/base",
            "_view_module_version": "1.2.0",
            "_view_name": "LayoutView",
            "align_content": null,
            "align_items": null,
            "align_self": null,
            "border": null,
            "bottom": null,
            "display": null,
            "flex": null,
            "flex_flow": null,
            "grid_area": null,
            "grid_auto_columns": null,
            "grid_auto_flow": null,
            "grid_auto_rows": null,
            "grid_column": null,
            "grid_gap": null,
            "grid_row": null,
            "grid_template_areas": null,
            "grid_template_columns": null,
            "grid_template_rows": null,
            "height": null,
            "justify_content": null,
            "justify_items": null,
            "left": null,
            "margin": null,
            "max_height": null,
            "max_width": null,
            "min_height": null,
            "min_width": null,
            "object_fit": null,
            "object_position": null,
            "order": null,
            "overflow": null,
            "overflow_x": null,
            "overflow_y": null,
            "padding": null,
            "right": null,
            "top": null,
            "visibility": null,
            "width": null
          }
        },
        "cc71031afc414998bb033bb6181a84c1": {
          "model_module": "@jupyter-widgets/base",
          "model_module_version": "1.2.0",
          "model_name": "LayoutModel",
          "state": {
            "_model_module": "@jupyter-widgets/base",
            "_model_module_version": "1.2.0",
            "_model_name": "LayoutModel",
            "_view_count": null,
            "_view_module": "@jupyter-widgets/base",
            "_view_module_version": "1.2.0",
            "_view_name": "LayoutView",
            "align_content": null,
            "align_items": null,
            "align_self": null,
            "border": null,
            "bottom": null,
            "display": null,
            "flex": null,
            "flex_flow": null,
            "grid_area": null,
            "grid_auto_columns": null,
            "grid_auto_flow": null,
            "grid_auto_rows": null,
            "grid_column": null,
            "grid_gap": null,
            "grid_row": null,
            "grid_template_areas": null,
            "grid_template_columns": null,
            "grid_template_rows": null,
            "height": null,
            "justify_content": null,
            "justify_items": null,
            "left": null,
            "margin": null,
            "max_height": null,
            "max_width": null,
            "min_height": null,
            "min_width": null,
            "object_fit": null,
            "object_position": null,
            "order": null,
            "overflow": null,
            "overflow_x": null,
            "overflow_y": null,
            "padding": null,
            "right": null,
            "top": null,
            "visibility": null,
            "width": null
          }
        },
        "ceca06bbb46047ea8cb821ca219da289": {
          "model_module": "@jupyter-widgets/base",
          "model_module_version": "1.2.0",
          "model_name": "LayoutModel",
          "state": {
            "_model_module": "@jupyter-widgets/base",
            "_model_module_version": "1.2.0",
            "_model_name": "LayoutModel",
            "_view_count": null,
            "_view_module": "@jupyter-widgets/base",
            "_view_module_version": "1.2.0",
            "_view_name": "LayoutView",
            "align_content": null,
            "align_items": null,
            "align_self": null,
            "border": null,
            "bottom": null,
            "display": null,
            "flex": null,
            "flex_flow": null,
            "grid_area": null,
            "grid_auto_columns": null,
            "grid_auto_flow": null,
            "grid_auto_rows": null,
            "grid_column": null,
            "grid_gap": null,
            "grid_row": null,
            "grid_template_areas": null,
            "grid_template_columns": null,
            "grid_template_rows": null,
            "height": null,
            "justify_content": null,
            "justify_items": null,
            "left": null,
            "margin": null,
            "max_height": null,
            "max_width": null,
            "min_height": null,
            "min_width": null,
            "object_fit": null,
            "object_position": null,
            "order": null,
            "overflow": null,
            "overflow_x": null,
            "overflow_y": null,
            "padding": null,
            "right": null,
            "top": null,
            "visibility": null,
            "width": null
          }
        },
        "d1a4b870eb32497bad3fb0b664648ae0": {
          "model_module": "@jupyter-widgets/base",
          "model_module_version": "1.2.0",
          "model_name": "LayoutModel",
          "state": {
            "_model_module": "@jupyter-widgets/base",
            "_model_module_version": "1.2.0",
            "_model_name": "LayoutModel",
            "_view_count": null,
            "_view_module": "@jupyter-widgets/base",
            "_view_module_version": "1.2.0",
            "_view_name": "LayoutView",
            "align_content": null,
            "align_items": null,
            "align_self": null,
            "border": null,
            "bottom": null,
            "display": null,
            "flex": null,
            "flex_flow": null,
            "grid_area": null,
            "grid_auto_columns": null,
            "grid_auto_flow": null,
            "grid_auto_rows": null,
            "grid_column": null,
            "grid_gap": null,
            "grid_row": null,
            "grid_template_areas": null,
            "grid_template_columns": null,
            "grid_template_rows": null,
            "height": null,
            "justify_content": null,
            "justify_items": null,
            "left": null,
            "margin": null,
            "max_height": null,
            "max_width": null,
            "min_height": null,
            "min_width": null,
            "object_fit": null,
            "object_position": null,
            "order": null,
            "overflow": null,
            "overflow_x": null,
            "overflow_y": null,
            "padding": null,
            "right": null,
            "top": null,
            "visibility": null,
            "width": null
          }
        },
        "d201d39401a04bebaac3c6ce299e235f": {
          "model_module": "@jupyter-widgets/controls",
          "model_module_version": "1.5.0",
          "model_name": "DropdownModel",
          "state": {
            "_dom_classes": [],
            "_model_module": "@jupyter-widgets/controls",
            "_model_module_version": "1.5.0",
            "_model_name": "DropdownModel",
            "_options_labels": [
              "'10-11'",
              "'8-9'",
              "'6-7'",
              "'4-5'",
              "'2-3'",
              "'0-1'"
            ],
            "_view_count": null,
            "_view_module": "@jupyter-widgets/controls",
            "_view_module_version": "1.5.0",
            "_view_name": "DropdownView",
            "description": "Years of Experience:",
            "description_tooltip": null,
            "disabled": false,
            "index": 0,
            "layout": "IPY_MODEL_c7dd3050633d4f64a3eaffcf027d4ad8",
            "style": "IPY_MODEL_0421c9a183dd40f49f5c6a3cd4d4ba83"
          }
        },
        "d44cb11b9e9647ea8599649446c860fb": {
          "model_module": "@jupyter-widgets/base",
          "model_module_version": "1.2.0",
          "model_name": "LayoutModel",
          "state": {
            "_model_module": "@jupyter-widgets/base",
            "_model_module_version": "1.2.0",
            "_model_name": "LayoutModel",
            "_view_count": null,
            "_view_module": "@jupyter-widgets/base",
            "_view_module_version": "1.2.0",
            "_view_name": "LayoutView",
            "align_content": null,
            "align_items": null,
            "align_self": null,
            "border": null,
            "bottom": null,
            "display": null,
            "flex": null,
            "flex_flow": null,
            "grid_area": null,
            "grid_auto_columns": null,
            "grid_auto_flow": null,
            "grid_auto_rows": null,
            "grid_column": null,
            "grid_gap": null,
            "grid_row": null,
            "grid_template_areas": null,
            "grid_template_columns": null,
            "grid_template_rows": null,
            "height": null,
            "justify_content": null,
            "justify_items": null,
            "left": null,
            "margin": null,
            "max_height": null,
            "max_width": null,
            "min_height": null,
            "min_width": null,
            "object_fit": null,
            "object_position": null,
            "order": null,
            "overflow": null,
            "overflow_x": null,
            "overflow_y": null,
            "padding": null,
            "right": null,
            "top": null,
            "visibility": null,
            "width": null
          }
        },
        "d943a664a6664f66b4d33383c4df9f80": {
          "model_module": "@jupyter-widgets/controls",
          "model_module_version": "1.5.0",
          "model_name": "DropdownModel",
          "state": {
            "_dom_classes": [],
            "_model_module": "@jupyter-widgets/controls",
            "_model_module_version": "1.5.0",
            "_model_name": "DropdownModel",
            "_options_labels": [
              "PhD",
              "Master",
              "Bachelor",
              "Diploma",
              "High Scool"
            ],
            "_view_count": null,
            "_view_module": "@jupyter-widgets/controls",
            "_view_module_version": "1.5.0",
            "_view_name": "DropdownView",
            "description": "Degree:",
            "description_tooltip": null,
            "disabled": false,
            "index": 0,
            "layout": "IPY_MODEL_c901b4b7f97e4f61af67d8f995ed7d49",
            "style": "IPY_MODEL_f27c17ceabd54112843b79171681cc43"
          }
        },
        "dd78eee8cd944a168b4e34d3aacb102d": {
          "model_module": "@jupyter-widgets/base",
          "model_module_version": "1.2.0",
          "model_name": "LayoutModel",
          "state": {
            "_model_module": "@jupyter-widgets/base",
            "_model_module_version": "1.2.0",
            "_model_name": "LayoutModel",
            "_view_count": null,
            "_view_module": "@jupyter-widgets/base",
            "_view_module_version": "1.2.0",
            "_view_name": "LayoutView",
            "align_content": null,
            "align_items": null,
            "align_self": null,
            "border": null,
            "bottom": null,
            "display": null,
            "flex": null,
            "flex_flow": null,
            "grid_area": null,
            "grid_auto_columns": null,
            "grid_auto_flow": null,
            "grid_auto_rows": null,
            "grid_column": null,
            "grid_gap": null,
            "grid_row": null,
            "grid_template_areas": null,
            "grid_template_columns": null,
            "grid_template_rows": null,
            "height": null,
            "justify_content": null,
            "justify_items": null,
            "left": null,
            "margin": null,
            "max_height": null,
            "max_width": null,
            "min_height": null,
            "min_width": null,
            "object_fit": null,
            "object_position": null,
            "order": null,
            "overflow": null,
            "overflow_x": null,
            "overflow_y": null,
            "padding": null,
            "right": null,
            "top": null,
            "visibility": null,
            "width": null
          }
        },
        "e22363ed32af4a3980c2278c85ed508b": {
          "model_module": "@jupyter-widgets/controls",
          "model_module_version": "1.5.0",
          "model_name": "FloatSliderModel",
          "state": {
            "_dom_classes": [],
            "_model_module": "@jupyter-widgets/controls",
            "_model_module_version": "1.5.0",
            "_model_name": "FloatSliderModel",
            "_view_count": null,
            "_view_module": "@jupyter-widgets/controls",
            "_view_module_version": "1.5.0",
            "_view_name": "FloatSliderView",
            "continuous_update": true,
            "description": "Percentage:",
            "description_tooltip": null,
            "disabled": false,
            "layout": "IPY_MODEL_81ae83a80f9f46fc95d3e88e9393fbed",
            "max": 100,
            "min": 0,
            "orientation": "horizontal",
            "readout": true,
            "readout_format": ".2f",
            "step": 1,
            "style": "IPY_MODEL_b5ea3a22c16149148dd2bd9250a6e2ac",
            "value": 35
          }
        },
        "e442375aaa9b4719ab281ccb33451c29": {
          "model_module": "@jupyter-widgets/controls",
          "model_module_version": "1.5.0",
          "model_name": "HBoxModel",
          "state": {
            "_dom_classes": [],
            "_model_module": "@jupyter-widgets/controls",
            "_model_module_version": "1.5.0",
            "_model_name": "HBoxModel",
            "_view_count": null,
            "_view_module": "@jupyter-widgets/controls",
            "_view_module_version": "1.5.0",
            "_view_name": "HBoxView",
            "box_style": "",
            "children": [
              "IPY_MODEL_eb81fa8ed14142668d1479f7eec7ba18",
              "IPY_MODEL_01f006c4843a4c13912a9b91553a1a8b",
              "IPY_MODEL_32a8e96ee29a4a29bb15c92463171296"
            ],
            "layout": "IPY_MODEL_1d1896b296cc40b4b8cf01a2abb64aff"
          }
        },
        "e459433fa01a4e90bce1e0aca8569b73": {
          "model_module": "@jupyter-widgets/controls",
          "model_module_version": "1.5.0",
          "model_name": "HBoxModel",
          "state": {
            "_dom_classes": [],
            "_model_module": "@jupyter-widgets/controls",
            "_model_module_version": "1.5.0",
            "_model_name": "HBoxModel",
            "_view_count": null,
            "_view_module": "@jupyter-widgets/controls",
            "_view_module_version": "1.5.0",
            "_view_name": "HBoxView",
            "box_style": "",
            "children": [
              "IPY_MODEL_497d2893ec854eba8dba95b3ae7f90a8",
              "IPY_MODEL_e6ff54e6ffcb4fdb8aab921f81d665bf"
            ],
            "layout": "IPY_MODEL_0d811f1b225d4dec966b2e5fd0991827"
          }
        },
        "e6ff54e6ffcb4fdb8aab921f81d665bf": {
          "model_module": "@jupyter-widgets/controls",
          "model_module_version": "1.5.0",
          "model_name": "FloatSliderModel",
          "state": {
            "_dom_classes": [],
            "_model_module": "@jupyter-widgets/controls",
            "_model_module_version": "1.5.0",
            "_model_name": "FloatSliderModel",
            "_view_count": null,
            "_view_module": "@jupyter-widgets/controls",
            "_view_module_version": "1.5.0",
            "_view_name": "FloatSliderView",
            "continuous_update": true,
            "description": "Percentage:",
            "description_tooltip": null,
            "disabled": false,
            "layout": "IPY_MODEL_799c93b1f3ea464db68a2c7d0623b4d4",
            "max": 100,
            "min": 0,
            "orientation": "horizontal",
            "readout": true,
            "readout_format": ".2f",
            "step": 1,
            "style": "IPY_MODEL_81764bb25b4b42a69b3cbc3fc01e4055",
            "value": 71
          }
        },
        "e87ce7e644d64d75bc4971a6a894ab52": {
          "model_module": "@jupyter-widgets/controls",
          "model_module_version": "1.5.0",
          "model_name": "SliderStyleModel",
          "state": {
            "_model_module": "@jupyter-widgets/controls",
            "_model_module_version": "1.5.0",
            "_model_name": "SliderStyleModel",
            "_view_count": null,
            "_view_module": "@jupyter-widgets/base",
            "_view_module_version": "1.2.0",
            "_view_name": "StyleView",
            "description_width": "initial",
            "handle_color": null
          }
        },
        "e8fc34f1735c4a34a5413ba6696a13a9": {
          "model_module": "@jupyter-widgets/base",
          "model_module_version": "1.2.0",
          "model_name": "LayoutModel",
          "state": {
            "_model_module": "@jupyter-widgets/base",
            "_model_module_version": "1.2.0",
            "_model_name": "LayoutModel",
            "_view_count": null,
            "_view_module": "@jupyter-widgets/base",
            "_view_module_version": "1.2.0",
            "_view_name": "LayoutView",
            "align_content": null,
            "align_items": null,
            "align_self": null,
            "border": null,
            "bottom": null,
            "display": null,
            "flex": null,
            "flex_flow": null,
            "grid_area": null,
            "grid_auto_columns": null,
            "grid_auto_flow": null,
            "grid_auto_rows": null,
            "grid_column": null,
            "grid_gap": null,
            "grid_row": null,
            "grid_template_areas": null,
            "grid_template_columns": null,
            "grid_template_rows": null,
            "height": null,
            "justify_content": null,
            "justify_items": null,
            "left": null,
            "margin": null,
            "max_height": null,
            "max_width": null,
            "min_height": null,
            "min_width": null,
            "object_fit": null,
            "object_position": null,
            "order": null,
            "overflow": null,
            "overflow_x": null,
            "overflow_y": null,
            "padding": null,
            "right": null,
            "top": null,
            "visibility": null,
            "width": null
          }
        },
        "eaafbd6fb1df42a9b835736c4cd93b9d": {
          "model_module": "@jupyter-widgets/controls",
          "model_module_version": "1.5.0",
          "model_name": "RadioButtonsModel",
          "state": {
            "_dom_classes": [],
            "_model_module": "@jupyter-widgets/controls",
            "_model_module_version": "1.5.0",
            "_model_name": "RadioButtonsModel",
            "_options_labels": [
              "Yes",
              "No"
            ],
            "_view_count": null,
            "_view_module": "@jupyter-widgets/controls",
            "_view_module_version": "1.5.0",
            "_view_name": "RadioButtonsView",
            "description": "Government Experience:",
            "description_tooltip": null,
            "disabled": false,
            "index": 0,
            "layout": "IPY_MODEL_d1a4b870eb32497bad3fb0b664648ae0",
            "style": "IPY_MODEL_509c4e4dc3ac419eb01d1491b7c983dd"
          }
        },
        "eb81fa8ed14142668d1479f7eec7ba18": {
          "model_module": "@jupyter-widgets/controls",
          "model_module_version": "1.5.0",
          "model_name": "HTMLModel",
          "state": {
            "_dom_classes": [],
            "_model_module": "@jupyter-widgets/controls",
            "_model_module_version": "1.5.0",
            "_model_name": "HTMLModel",
            "_view_count": null,
            "_view_module": "@jupyter-widgets/controls",
            "_view_module_version": "1.5.0",
            "_view_name": "HTMLView",
            "description": "",
            "description_tooltip": null,
            "layout": "IPY_MODEL_9caf0b1f360b472cb6689ed367e353e4",
            "placeholder": "​",
            "style": "IPY_MODEL_1bc9a287ec714f53891681b1868904b6",
            "value": "llama-2-13b-chat.ggmlv3.q5_1.bin: 100%"
          }
        },
        "f270b2d96e394604b6a4674f7bb720d0": {
          "model_module": "@jupyter-widgets/base",
          "model_module_version": "1.2.0",
          "model_name": "LayoutModel",
          "state": {
            "_model_module": "@jupyter-widgets/base",
            "_model_module_version": "1.2.0",
            "_model_name": "LayoutModel",
            "_view_count": null,
            "_view_module": "@jupyter-widgets/base",
            "_view_module_version": "1.2.0",
            "_view_name": "LayoutView",
            "align_content": null,
            "align_items": null,
            "align_self": null,
            "border": null,
            "bottom": null,
            "display": null,
            "flex": null,
            "flex_flow": null,
            "grid_area": null,
            "grid_auto_columns": null,
            "grid_auto_flow": null,
            "grid_auto_rows": null,
            "grid_column": null,
            "grid_gap": null,
            "grid_row": null,
            "grid_template_areas": null,
            "grid_template_columns": null,
            "grid_template_rows": null,
            "height": null,
            "justify_content": null,
            "justify_items": null,
            "left": null,
            "margin": null,
            "max_height": null,
            "max_width": null,
            "min_height": null,
            "min_width": null,
            "object_fit": null,
            "object_position": null,
            "order": null,
            "overflow": null,
            "overflow_x": null,
            "overflow_y": null,
            "padding": null,
            "right": null,
            "top": null,
            "visibility": null,
            "width": null
          }
        },
        "f27c17ceabd54112843b79171681cc43": {
          "model_module": "@jupyter-widgets/controls",
          "model_module_version": "1.5.0",
          "model_name": "DescriptionStyleModel",
          "state": {
            "_model_module": "@jupyter-widgets/controls",
            "_model_module_version": "1.5.0",
            "_model_name": "DescriptionStyleModel",
            "_view_count": null,
            "_view_module": "@jupyter-widgets/base",
            "_view_module_version": "1.2.0",
            "_view_name": "StyleView",
            "description_width": "initial"
          }
        },
        "f33e12468ead47bfa07804af1a457ad5": {
          "model_module": "@jupyter-widgets/base",
          "model_module_version": "1.2.0",
          "model_name": "LayoutModel",
          "state": {
            "_model_module": "@jupyter-widgets/base",
            "_model_module_version": "1.2.0",
            "_model_name": "LayoutModel",
            "_view_count": null,
            "_view_module": "@jupyter-widgets/base",
            "_view_module_version": "1.2.0",
            "_view_name": "LayoutView",
            "align_content": null,
            "align_items": null,
            "align_self": null,
            "border": null,
            "bottom": null,
            "display": null,
            "flex": null,
            "flex_flow": null,
            "grid_area": null,
            "grid_auto_columns": null,
            "grid_auto_flow": null,
            "grid_auto_rows": null,
            "grid_column": null,
            "grid_gap": null,
            "grid_row": null,
            "grid_template_areas": null,
            "grid_template_columns": null,
            "grid_template_rows": null,
            "height": null,
            "justify_content": null,
            "justify_items": null,
            "left": null,
            "margin": null,
            "max_height": null,
            "max_width": null,
            "min_height": null,
            "min_width": null,
            "object_fit": null,
            "object_position": null,
            "order": null,
            "overflow": null,
            "overflow_x": null,
            "overflow_y": null,
            "padding": null,
            "right": null,
            "top": null,
            "visibility": null,
            "width": null
          }
        },
        "f503542af537497dae7e0edb67aa68e2": {
          "model_module": "@jupyter-widgets/controls",
          "model_module_version": "1.5.0",
          "model_name": "FloatSliderModel",
          "state": {
            "_dom_classes": [],
            "_model_module": "@jupyter-widgets/controls",
            "_model_module_version": "1.5.0",
            "_model_name": "FloatSliderModel",
            "_view_count": null,
            "_view_module": "@jupyter-widgets/controls",
            "_view_module_version": "1.5.0",
            "_view_name": "FloatSliderView",
            "continuous_update": true,
            "description": "Percentage:",
            "description_tooltip": null,
            "disabled": false,
            "layout": "IPY_MODEL_014bc9882ce54a6b9f63739f04cf1ff8",
            "max": 100,
            "min": 0,
            "orientation": "horizontal",
            "readout": true,
            "readout_format": ".2f",
            "step": 1,
            "style": "IPY_MODEL_2eb285ad05604f54973d3c81c6641553",
            "value": 19
          }
        },
        "f7809a69a2a2436da91da1808e5bfbe1": {
          "model_module": "@jupyter-widgets/controls",
          "model_module_version": "1.5.0",
          "model_name": "DescriptionStyleModel",
          "state": {
            "_model_module": "@jupyter-widgets/controls",
            "_model_module_version": "1.5.0",
            "_model_name": "DescriptionStyleModel",
            "_view_count": null,
            "_view_module": "@jupyter-widgets/base",
            "_view_module_version": "1.2.0",
            "_view_name": "StyleView",
            "description_width": "initial"
          }
        },
        "fcd5c21e51f2479a98ea4ab588d285b8": {
          "model_module": "@jupyter-widgets/controls",
          "model_module_version": "1.5.0",
          "model_name": "FloatSliderModel",
          "state": {
            "_dom_classes": [],
            "_model_module": "@jupyter-widgets/controls",
            "_model_module_version": "1.5.0",
            "_model_name": "FloatSliderModel",
            "_view_count": null,
            "_view_module": "@jupyter-widgets/controls",
            "_view_module_version": "1.5.0",
            "_view_name": "FloatSliderView",
            "continuous_update": true,
            "description": "Percentage:",
            "description_tooltip": null,
            "disabled": false,
            "layout": "IPY_MODEL_9e3e87fce2904a34baa28323d45153c5",
            "max": 100,
            "min": 0,
            "orientation": "horizontal",
            "readout": true,
            "readout_format": ".2f",
            "step": 1,
            "style": "IPY_MODEL_9de47ee7131d4bebad49221b09074552",
            "value": 17
          }
        }
      }
    }
  },
  "nbformat": 4,
  "nbformat_minor": 0
}
